{
  "nbformat": 4,
  "nbformat_minor": 0,
  "metadata": {
    "colab": {
      "provenance": [],
      "mount_file_id": "1UMlk1E-bt0KhsUW64jHOOoWOStvqbyF9",
      "authorship_tag": "ABX9TyP5iTsKyiTyPJUnE1meZJ7Y",
      "include_colab_link": true
    },
    "kernelspec": {
      "name": "python3",
      "display_name": "Python 3"
    },
    "language_info": {
      "name": "python"
    }
  },
  "cells": [
    {
      "cell_type": "markdown",
      "metadata": {
        "id": "view-in-github",
        "colab_type": "text"
      },
      "source": [
        "<a href=\"https://colab.research.google.com/github/solenoid09/Food_Market_Analysis/blob/main/Reg_exinpyt.ipynb\" target=\"_parent\"><img src=\"https://colab.research.google.com/assets/colab-badge.svg\" alt=\"Open In Colab\"/></a>"
      ]
    },
    {
      "cell_type": "markdown",
      "source": [
        "Regular Expressions in Python\n",
        "\n",
        "Table of contents:\n",
        "\n",
        "\n",
        "1.   match()\n",
        "2.   search()\n",
        "3.   findall()\n",
        "4.   finditer()\n",
        "5.   sub()\n",
        "6.   split()\n",
        "7.   Groups\n",
        "\n",
        "\n",
        "\n"
      ],
      "metadata": {
        "id": "idTqRrIdrB9g"
      }
    },
    {
      "cell_type": "code",
      "execution_count": 1,
      "metadata": {
        "id": "lbGP9JCSqp2F"
      },
      "outputs": [],
      "source": [
        "import re"
      ]
    },
    {
      "cell_type": "code",
      "source": [
        "#Define a string\n",
        "string = \"Tiger is the national animal of India. Tiger lives in Forest.\"\n",
        "\n",
        "#Define the pattern\n",
        "pattern = \"Tiger\"\n",
        "\n",
        "#Running match() on a string\n",
        "result = re.match(pattern, string)\n",
        "\n",
        "#Printing the result\n",
        "print(result)"
      ],
      "metadata": {
        "colab": {
          "base_uri": "https://localhost:8080/"
        },
        "id": "YN6jGF1FrpG0",
        "outputId": "2485cc71-94b0-4fb2-e5ae-ddc78a074c0e"
      },
      "execution_count": 3,
      "outputs": [
        {
          "output_type": "stream",
          "name": "stdout",
          "text": [
            "<re.Match object; span=(0, 5), match='Tiger'>\n"
          ]
        }
      ]
    },
    {
      "cell_type": "code",
      "source": [
        "#Define a string\n",
        "string = \"Tiger is the national animal of India. Tiger lives in Forest.\"\n",
        "\n",
        "#Define the pattern\n",
        "pattern = \"Tiger\"\n",
        "\n",
        "#Running match() on a string\n",
        "result = re.match(pattern, string).group()\n",
        "\n",
        "#Printing the result\n",
        "print(result)"
      ],
      "metadata": {
        "colab": {
          "base_uri": "https://localhost:8080/"
        },
        "id": "_uBaBruHsOJ_",
        "outputId": "77ad9190-b7d6-4fbb-88de-97438dc0f2ce"
      },
      "execution_count": 4,
      "outputs": [
        {
          "output_type": "stream",
          "name": "stdout",
          "text": [
            "Tiger\n"
          ]
        }
      ]
    },
    {
      "cell_type": "code",
      "source": [
        "#Define a string\n",
        "string = \"The national animal of India is Tiger. Tiger lives in Forest.\"\n",
        "\n",
        "#Define the pattern\n",
        "pattern = \"Tiger\"\n",
        "\n",
        "#Running match() on a string\n",
        "result = re.match(pattern, string)\n",
        "\n",
        "#Printing the result\n",
        "print(result)"
      ],
      "metadata": {
        "colab": {
          "base_uri": "https://localhost:8080/"
        },
        "id": "WRJ7davrsc8L",
        "outputId": "84a33cc5-900f-4a7b-899e-6d1ef48499c4"
      },
      "execution_count": 6,
      "outputs": [
        {
          "output_type": "stream",
          "name": "stdout",
          "text": [
            "None\n"
          ]
        }
      ]
    },
    {
      "cell_type": "code",
      "source": [
        "#Define a string\n",
        "string = \"The national animal of India is Tiger. Tiger lives in Forest.\"\n",
        "\n",
        "#Define the pattern\n",
        "pattern = \"Tiger\"\n",
        "\n",
        "#Running match() on a string\n",
        "result = re.search(pattern, string)\n",
        "\n",
        "#Printing the result\n",
        "print(result)"
      ],
      "metadata": {
        "colab": {
          "base_uri": "https://localhost:8080/"
        },
        "id": "1hTWMdacswvI",
        "outputId": "15f06852-02f7-464c-c3fa-edb3b5cf2846"
      },
      "execution_count": 7,
      "outputs": [
        {
          "output_type": "stream",
          "name": "stdout",
          "text": [
            "<re.Match object; span=(32, 37), match='Tiger'>\n"
          ]
        }
      ]
    },
    {
      "cell_type": "code",
      "source": [
        "#Define a string\n",
        "string = \"The national animal of India is Tiger. Tiger lives in Forest.\"\n",
        "\n",
        "#Define the pattern\n",
        "pattern = \"Tiger\"\n",
        "\n",
        "#Running match() on a string\n",
        "result = re.search(pattern, string).group()\n",
        "\n",
        "#Printing the result\n",
        "print(result)"
      ],
      "metadata": {
        "colab": {
          "base_uri": "https://localhost:8080/"
        },
        "id": "_NkRUd4Qs_ft",
        "outputId": "c0a9cada-d79e-4f6d-a04e-16412be64586"
      },
      "execution_count": 8,
      "outputs": [
        {
          "output_type": "stream",
          "name": "stdout",
          "text": [
            "Tiger\n"
          ]
        }
      ]
    },
    {
      "cell_type": "code",
      "source": [
        "#Define a string\n",
        "string = \"The national animal of India is Tiger. Tiger lives in Forest.\"\n",
        "\n",
        "#Define the pattern\n",
        "pattern = \"Tiger\"\n",
        "\n",
        "#Running match() on a string\n",
        "result = re.findall(pattern, string)\n",
        "\n",
        "#Printing the result\n",
        "print(result)"
      ],
      "metadata": {
        "colab": {
          "base_uri": "https://localhost:8080/"
        },
        "id": "IO8GlXrDtFjD",
        "outputId": "4f7e5494-36ce-4b6f-e1dd-7585d76ba3ce"
      },
      "execution_count": 9,
      "outputs": [
        {
          "output_type": "stream",
          "name": "stdout",
          "text": [
            "['Tiger', 'Tiger']\n"
          ]
        }
      ]
    },
    {
      "cell_type": "code",
      "source": [
        "#Define a string\n",
        "string = \"India got freedom on 15-08-1947, and it is celebrated as Independence Day.\\\n",
        "          Indian Constitution came into effect on 25-01-1950, and it is celebrated as Republic Day.\"\n",
        "\n",
        "#Define the pattern\n",
        "date_pattern = r'\\d{2}-\\d{2}-\\d{4}'\n",
        "\n",
        "#Running match() on a string\n",
        "re.findall(date_pattern, string)\n",
        "\n",
        "#Printing the result\n",
        "#print(result)"
      ],
      "metadata": {
        "colab": {
          "base_uri": "https://localhost:8080/"
        },
        "id": "picOwxeCtN06",
        "outputId": "c52233e7-6361-4766-cb25-68391bdc4efa"
      },
      "execution_count": 10,
      "outputs": [
        {
          "output_type": "execute_result",
          "data": {
            "text/plain": [
              "['15-08-1947', '25-01-1950']"
            ]
          },
          "metadata": {},
          "execution_count": 10
        }
      ]
    },
    {
      "cell_type": "code",
      "source": [
        "#Define a string\n",
        "string = \"The national animal of India is Tiger. Tiger lives in Forest.\"\n",
        "\n",
        "#Define the pattern\n",
        "pattern = \"Tiger\"\n",
        "\n",
        "#Running match() on a string\n",
        "result = re.finditer(pattern, string)\n",
        "\n",
        "#Printing the result\n",
        "for i in result:\n",
        "  print(i)\n",
        "  print(i.span())\n",
        "  print(i.group())\n",
        "  print('Start:',i.start(),'End:',i.end(), 'Sub-string:',i.group())\n",
        "print(result)"
      ],
      "metadata": {
        "colab": {
          "base_uri": "https://localhost:8080/"
        },
        "id": "ub_3_ilbuLtI",
        "outputId": "4be10061-e09a-4c67-c635-73c6ec015677"
      },
      "execution_count": 12,
      "outputs": [
        {
          "output_type": "stream",
          "name": "stdout",
          "text": [
            "<re.Match object; span=(32, 37), match='Tiger'>\n",
            "(32, 37)\n",
            "Tiger\n",
            "Start: 32 End: 37 Sub-string: Tiger\n",
            "<re.Match object; span=(39, 44), match='Tiger'>\n",
            "(39, 44)\n",
            "Tiger\n",
            "Start: 39 End: 44 Sub-string: Tiger\n",
            "<callable_iterator object at 0x7add45de8d00>\n"
          ]
        }
      ]
    },
    {
      "cell_type": "code",
      "source": [
        "text = \"analytics Vidhya is the largest data science community of India.\"\n",
        "\n",
        "#Replacing a substring using sub()\n",
        "result=re.sub('India', 'the World', text)\n",
        "\n",
        "#Printing the result\n",
        "print(result)"
      ],
      "metadata": {
        "colab": {
          "base_uri": "https://localhost:8080/"
        },
        "id": "bwkofJXHvBGL",
        "outputId": "7fa46df1-a88f-4177-cd05-51995637a619"
      },
      "execution_count": 13,
      "outputs": [
        {
          "output_type": "stream",
          "name": "stdout",
          "text": [
            "analytics Vidhya is the largest data science community of the World.\n"
          ]
        }
      ]
    },
    {
      "cell_type": "code",
      "source": [
        "line = \"I have a big test tomorrow; I can't go out tonight.\"\n",
        "\n",
        "#Splitting a string into multiple substrings\n",
        "re.split(r'[;]',line)"
      ],
      "metadata": {
        "colab": {
          "base_uri": "https://localhost:8080/"
        },
        "id": "Mbr2jz0EvSwm",
        "outputId": "c0ce9781-ceea-403f-d741-5f87d6f92d45"
      },
      "execution_count": 14,
      "outputs": [
        {
          "output_type": "execute_result",
          "data": {
            "text/plain": [
              "['I have a big test tomorrow', \" I can't go out tonight.\"]"
            ]
          },
          "metadata": {},
          "execution_count": 14
        }
      ]
    },
    {
      "cell_type": "code",
      "source": [
        "#Running a sample pattern on some text\n",
        "string=\"Ajay credited $500 to your account on 13-08-2020.\\\n",
        "      Anmol debited $1,700 from your account on 14-08-2020.\\\n",
        "      Alex debited $100 on 16-08-2020 from your account.\"\n",
        "\n",
        "pattern=\"[\\w]+ [\\w]+ \\$[\\d,]+ [a-zA-Z ]+ \\d{2}-\\d{2}-\\d{4}\"\n",
        "result = re.findall(pattern, string)\n",
        "print(result)\n",
        "print(string)"
      ],
      "metadata": {
        "colab": {
          "base_uri": "https://localhost:8080/"
        },
        "id": "1vE8kmTNvt54",
        "outputId": "46281822-2c63-469d-b0b8-377f09017214"
      },
      "execution_count": 28,
      "outputs": [
        {
          "output_type": "stream",
          "name": "stdout",
          "text": [
            "['Ajay credited $500 to your account on 13-08-2020', 'Anmol debited $1,700 from your account on 14-08-2020', 'Alex debited $100 on 16-08-2020']\n",
            "Ajay credited $500 to your account on 13-08-2020.      Anmol debited $1,700 from your account on 14-08-2020.      Alex debited $100 on 16-08-2020 from your account.\n"
          ]
        }
      ]
    },
    {
      "cell_type": "code",
      "source": [
        "#Running a sample pattern on some text\n",
        "string=\"Ajay credited $500 to your account on 13-08-2020.\\\n",
        "      Anmol debited $1,700 from your account on 14-08-2020.\\\n",
        "      Alex debited $100 on 16-08-2020 from your account.\"\n",
        "\n",
        "#Creating groups in the previous pattern\n",
        "pattern = \"([\\w]+) ([\\w]+) (\\$[\\d,]+) [a-zA-Z ]+ (\\d{2}-\\d{2}-\\d{4})\"\n",
        "result = re.findall(pattern, string)\n",
        "print(result)"
      ],
      "metadata": {
        "colab": {
          "base_uri": "https://localhost:8080/"
        },
        "id": "iR5QZ9wRw8ws",
        "outputId": "a11750ec-3921-4804-ceaa-6e489f927eca"
      },
      "execution_count": 31,
      "outputs": [
        {
          "output_type": "stream",
          "name": "stdout",
          "text": [
            "[('Ajay', 'credited', '$500', '13-08-2020'), ('Anmol', 'debited', '$1,700', '14-08-2020'), ('Alex', 'debited', '$100', '16-08-2020')]\n"
          ]
        }
      ]
    },
    {
      "cell_type": "code",
      "source": [
        "import pandas as pd\n",
        "\n",
        "#creating a dataframe\n",
        "df=pd.DataFrame(result,columns=['Name','Type','Amount','Date'])\n",
        "df\n",
        "#"
      ],
      "metadata": {
        "colab": {
          "base_uri": "https://localhost:8080/",
          "height": 144
        },
        "id": "H7BptGng2eNP",
        "outputId": "aff1977d-a642-4bec-8933-3340065bb0d8"
      },
      "execution_count": 30,
      "outputs": [
        {
          "output_type": "execute_result",
          "data": {
            "text/plain": [
              "    Name      Type  Amount        Date\n",
              "0   Ajay  credited    $500  13-08-2020\n",
              "1  Anmol   debited  $1,700  14-08-2020\n",
              "2   Alex   debited    $100  16-08-2020"
            ],
            "text/html": [
              "\n",
              "  <div id=\"df-63f753b7-a67d-4e35-8021-3237bcb542d5\" class=\"colab-df-container\">\n",
              "    <div>\n",
              "<style scoped>\n",
              "    .dataframe tbody tr th:only-of-type {\n",
              "        vertical-align: middle;\n",
              "    }\n",
              "\n",
              "    .dataframe tbody tr th {\n",
              "        vertical-align: top;\n",
              "    }\n",
              "\n",
              "    .dataframe thead th {\n",
              "        text-align: right;\n",
              "    }\n",
              "</style>\n",
              "<table border=\"1\" class=\"dataframe\">\n",
              "  <thead>\n",
              "    <tr style=\"text-align: right;\">\n",
              "      <th></th>\n",
              "      <th>Name</th>\n",
              "      <th>Type</th>\n",
              "      <th>Amount</th>\n",
              "      <th>Date</th>\n",
              "    </tr>\n",
              "  </thead>\n",
              "  <tbody>\n",
              "    <tr>\n",
              "      <th>0</th>\n",
              "      <td>Ajay</td>\n",
              "      <td>credited</td>\n",
              "      <td>$500</td>\n",
              "      <td>13-08-2020</td>\n",
              "    </tr>\n",
              "    <tr>\n",
              "      <th>1</th>\n",
              "      <td>Anmol</td>\n",
              "      <td>debited</td>\n",
              "      <td>$1,700</td>\n",
              "      <td>14-08-2020</td>\n",
              "    </tr>\n",
              "    <tr>\n",
              "      <th>2</th>\n",
              "      <td>Alex</td>\n",
              "      <td>debited</td>\n",
              "      <td>$100</td>\n",
              "      <td>16-08-2020</td>\n",
              "    </tr>\n",
              "  </tbody>\n",
              "</table>\n",
              "</div>\n",
              "    <div class=\"colab-df-buttons\">\n",
              "\n",
              "  <div class=\"colab-df-container\">\n",
              "    <button class=\"colab-df-convert\" onclick=\"convertToInteractive('df-63f753b7-a67d-4e35-8021-3237bcb542d5')\"\n",
              "            title=\"Convert this dataframe to an interactive table.\"\n",
              "            style=\"display:none;\">\n",
              "\n",
              "  <svg xmlns=\"http://www.w3.org/2000/svg\" height=\"24px\" viewBox=\"0 -960 960 960\">\n",
              "    <path d=\"M120-120v-720h720v720H120Zm60-500h600v-160H180v160Zm220 220h160v-160H400v160Zm0 220h160v-160H400v160ZM180-400h160v-160H180v160Zm440 0h160v-160H620v160ZM180-180h160v-160H180v160Zm440 0h160v-160H620v160Z\"/>\n",
              "  </svg>\n",
              "    </button>\n",
              "\n",
              "  <style>\n",
              "    .colab-df-container {\n",
              "      display:flex;\n",
              "      gap: 12px;\n",
              "    }\n",
              "\n",
              "    .colab-df-convert {\n",
              "      background-color: #E8F0FE;\n",
              "      border: none;\n",
              "      border-radius: 50%;\n",
              "      cursor: pointer;\n",
              "      display: none;\n",
              "      fill: #1967D2;\n",
              "      height: 32px;\n",
              "      padding: 0 0 0 0;\n",
              "      width: 32px;\n",
              "    }\n",
              "\n",
              "    .colab-df-convert:hover {\n",
              "      background-color: #E2EBFA;\n",
              "      box-shadow: 0px 1px 2px rgba(60, 64, 67, 0.3), 0px 1px 3px 1px rgba(60, 64, 67, 0.15);\n",
              "      fill: #174EA6;\n",
              "    }\n",
              "\n",
              "    .colab-df-buttons div {\n",
              "      margin-bottom: 4px;\n",
              "    }\n",
              "\n",
              "    [theme=dark] .colab-df-convert {\n",
              "      background-color: #3B4455;\n",
              "      fill: #D2E3FC;\n",
              "    }\n",
              "\n",
              "    [theme=dark] .colab-df-convert:hover {\n",
              "      background-color: #434B5C;\n",
              "      box-shadow: 0px 1px 3px 1px rgba(0, 0, 0, 0.15);\n",
              "      filter: drop-shadow(0px 1px 2px rgba(0, 0, 0, 0.3));\n",
              "      fill: #FFFFFF;\n",
              "    }\n",
              "  </style>\n",
              "\n",
              "    <script>\n",
              "      const buttonEl =\n",
              "        document.querySelector('#df-63f753b7-a67d-4e35-8021-3237bcb542d5 button.colab-df-convert');\n",
              "      buttonEl.style.display =\n",
              "        google.colab.kernel.accessAllowed ? 'block' : 'none';\n",
              "\n",
              "      async function convertToInteractive(key) {\n",
              "        const element = document.querySelector('#df-63f753b7-a67d-4e35-8021-3237bcb542d5');\n",
              "        const dataTable =\n",
              "          await google.colab.kernel.invokeFunction('convertToInteractive',\n",
              "                                                    [key], {});\n",
              "        if (!dataTable) return;\n",
              "\n",
              "        const docLinkHtml = 'Like what you see? Visit the ' +\n",
              "          '<a target=\"_blank\" href=https://colab.research.google.com/notebooks/data_table.ipynb>data table notebook</a>'\n",
              "          + ' to learn more about interactive tables.';\n",
              "        element.innerHTML = '';\n",
              "        dataTable['output_type'] = 'display_data';\n",
              "        await google.colab.output.renderOutput(dataTable, element);\n",
              "        const docLink = document.createElement('div');\n",
              "        docLink.innerHTML = docLinkHtml;\n",
              "        element.appendChild(docLink);\n",
              "      }\n",
              "    </script>\n",
              "  </div>\n",
              "\n",
              "\n",
              "    <div id=\"df-66ebd428-afcf-4387-822b-980094e86a2d\">\n",
              "      <button class=\"colab-df-quickchart\" onclick=\"quickchart('df-66ebd428-afcf-4387-822b-980094e86a2d')\"\n",
              "                title=\"Suggest charts\"\n",
              "                style=\"display:none;\">\n",
              "\n",
              "<svg xmlns=\"http://www.w3.org/2000/svg\" height=\"24px\"viewBox=\"0 0 24 24\"\n",
              "     width=\"24px\">\n",
              "    <g>\n",
              "        <path d=\"M19 3H5c-1.1 0-2 .9-2 2v14c0 1.1.9 2 2 2h14c1.1 0 2-.9 2-2V5c0-1.1-.9-2-2-2zM9 17H7v-7h2v7zm4 0h-2V7h2v10zm4 0h-2v-4h2v4z\"/>\n",
              "    </g>\n",
              "</svg>\n",
              "      </button>\n",
              "\n",
              "<style>\n",
              "  .colab-df-quickchart {\n",
              "      --bg-color: #E8F0FE;\n",
              "      --fill-color: #1967D2;\n",
              "      --hover-bg-color: #E2EBFA;\n",
              "      --hover-fill-color: #174EA6;\n",
              "      --disabled-fill-color: #AAA;\n",
              "      --disabled-bg-color: #DDD;\n",
              "  }\n",
              "\n",
              "  [theme=dark] .colab-df-quickchart {\n",
              "      --bg-color: #3B4455;\n",
              "      --fill-color: #D2E3FC;\n",
              "      --hover-bg-color: #434B5C;\n",
              "      --hover-fill-color: #FFFFFF;\n",
              "      --disabled-bg-color: #3B4455;\n",
              "      --disabled-fill-color: #666;\n",
              "  }\n",
              "\n",
              "  .colab-df-quickchart {\n",
              "    background-color: var(--bg-color);\n",
              "    border: none;\n",
              "    border-radius: 50%;\n",
              "    cursor: pointer;\n",
              "    display: none;\n",
              "    fill: var(--fill-color);\n",
              "    height: 32px;\n",
              "    padding: 0;\n",
              "    width: 32px;\n",
              "  }\n",
              "\n",
              "  .colab-df-quickchart:hover {\n",
              "    background-color: var(--hover-bg-color);\n",
              "    box-shadow: 0 1px 2px rgba(60, 64, 67, 0.3), 0 1px 3px 1px rgba(60, 64, 67, 0.15);\n",
              "    fill: var(--button-hover-fill-color);\n",
              "  }\n",
              "\n",
              "  .colab-df-quickchart-complete:disabled,\n",
              "  .colab-df-quickchart-complete:disabled:hover {\n",
              "    background-color: var(--disabled-bg-color);\n",
              "    fill: var(--disabled-fill-color);\n",
              "    box-shadow: none;\n",
              "  }\n",
              "\n",
              "  .colab-df-spinner {\n",
              "    border: 2px solid var(--fill-color);\n",
              "    border-color: transparent;\n",
              "    border-bottom-color: var(--fill-color);\n",
              "    animation:\n",
              "      spin 1s steps(1) infinite;\n",
              "  }\n",
              "\n",
              "  @keyframes spin {\n",
              "    0% {\n",
              "      border-color: transparent;\n",
              "      border-bottom-color: var(--fill-color);\n",
              "      border-left-color: var(--fill-color);\n",
              "    }\n",
              "    20% {\n",
              "      border-color: transparent;\n",
              "      border-left-color: var(--fill-color);\n",
              "      border-top-color: var(--fill-color);\n",
              "    }\n",
              "    30% {\n",
              "      border-color: transparent;\n",
              "      border-left-color: var(--fill-color);\n",
              "      border-top-color: var(--fill-color);\n",
              "      border-right-color: var(--fill-color);\n",
              "    }\n",
              "    40% {\n",
              "      border-color: transparent;\n",
              "      border-right-color: var(--fill-color);\n",
              "      border-top-color: var(--fill-color);\n",
              "    }\n",
              "    60% {\n",
              "      border-color: transparent;\n",
              "      border-right-color: var(--fill-color);\n",
              "    }\n",
              "    80% {\n",
              "      border-color: transparent;\n",
              "      border-right-color: var(--fill-color);\n",
              "      border-bottom-color: var(--fill-color);\n",
              "    }\n",
              "    90% {\n",
              "      border-color: transparent;\n",
              "      border-bottom-color: var(--fill-color);\n",
              "    }\n",
              "  }\n",
              "</style>\n",
              "\n",
              "      <script>\n",
              "        async function quickchart(key) {\n",
              "          const quickchartButtonEl =\n",
              "            document.querySelector('#' + key + ' button');\n",
              "          quickchartButtonEl.disabled = true;  // To prevent multiple clicks.\n",
              "          quickchartButtonEl.classList.add('colab-df-spinner');\n",
              "          try {\n",
              "            const charts = await google.colab.kernel.invokeFunction(\n",
              "                'suggestCharts', [key], {});\n",
              "          } catch (error) {\n",
              "            console.error('Error during call to suggestCharts:', error);\n",
              "          }\n",
              "          quickchartButtonEl.classList.remove('colab-df-spinner');\n",
              "          quickchartButtonEl.classList.add('colab-df-quickchart-complete');\n",
              "        }\n",
              "        (() => {\n",
              "          let quickchartButtonEl =\n",
              "            document.querySelector('#df-66ebd428-afcf-4387-822b-980094e86a2d button');\n",
              "          quickchartButtonEl.style.display =\n",
              "            google.colab.kernel.accessAllowed ? 'block' : 'none';\n",
              "        })();\n",
              "      </script>\n",
              "    </div>\n",
              "\n",
              "  <div id=\"id_8223e36c-c69d-4153-979f-1f44d76b8c70\">\n",
              "    <style>\n",
              "      .colab-df-generate {\n",
              "        background-color: #E8F0FE;\n",
              "        border: none;\n",
              "        border-radius: 50%;\n",
              "        cursor: pointer;\n",
              "        display: none;\n",
              "        fill: #1967D2;\n",
              "        height: 32px;\n",
              "        padding: 0 0 0 0;\n",
              "        width: 32px;\n",
              "      }\n",
              "\n",
              "      .colab-df-generate:hover {\n",
              "        background-color: #E2EBFA;\n",
              "        box-shadow: 0px 1px 2px rgba(60, 64, 67, 0.3), 0px 1px 3px 1px rgba(60, 64, 67, 0.15);\n",
              "        fill: #174EA6;\n",
              "      }\n",
              "\n",
              "      [theme=dark] .colab-df-generate {\n",
              "        background-color: #3B4455;\n",
              "        fill: #D2E3FC;\n",
              "      }\n",
              "\n",
              "      [theme=dark] .colab-df-generate:hover {\n",
              "        background-color: #434B5C;\n",
              "        box-shadow: 0px 1px 3px 1px rgba(0, 0, 0, 0.15);\n",
              "        filter: drop-shadow(0px 1px 2px rgba(0, 0, 0, 0.3));\n",
              "        fill: #FFFFFF;\n",
              "      }\n",
              "    </style>\n",
              "    <button class=\"colab-df-generate\" onclick=\"generateWithVariable('df')\"\n",
              "            title=\"Generate code using this dataframe.\"\n",
              "            style=\"display:none;\">\n",
              "\n",
              "  <svg xmlns=\"http://www.w3.org/2000/svg\" height=\"24px\"viewBox=\"0 0 24 24\"\n",
              "       width=\"24px\">\n",
              "    <path d=\"M7,19H8.4L18.45,9,17,7.55,7,17.6ZM5,21V16.75L18.45,3.32a2,2,0,0,1,2.83,0l1.4,1.43a1.91,1.91,0,0,1,.58,1.4,1.91,1.91,0,0,1-.58,1.4L9.25,21ZM18.45,9,17,7.55Zm-12,3A5.31,5.31,0,0,0,4.9,8.1,5.31,5.31,0,0,0,1,6.5,5.31,5.31,0,0,0,4.9,4.9,5.31,5.31,0,0,0,6.5,1,5.31,5.31,0,0,0,8.1,4.9,5.31,5.31,0,0,0,12,6.5,5.46,5.46,0,0,0,6.5,12Z\"/>\n",
              "  </svg>\n",
              "    </button>\n",
              "    <script>\n",
              "      (() => {\n",
              "      const buttonEl =\n",
              "        document.querySelector('#id_8223e36c-c69d-4153-979f-1f44d76b8c70 button.colab-df-generate');\n",
              "      buttonEl.style.display =\n",
              "        google.colab.kernel.accessAllowed ? 'block' : 'none';\n",
              "\n",
              "      buttonEl.onclick = () => {\n",
              "        google.colab.notebook.generateWithVariable('df');\n",
              "      }\n",
              "      })();\n",
              "    </script>\n",
              "  </div>\n",
              "\n",
              "    </div>\n",
              "  </div>\n"
            ],
            "application/vnd.google.colaboratory.intrinsic+json": {
              "type": "dataframe",
              "variable_name": "df",
              "summary": "{\n  \"name\": \"df\",\n  \"rows\": 3,\n  \"fields\": [\n    {\n      \"column\": \"Name\",\n      \"properties\": {\n        \"dtype\": \"string\",\n        \"num_unique_values\": 3,\n        \"samples\": [\n          \"Ajay\",\n          \"Anmol\",\n          \"Alex\"\n        ],\n        \"semantic_type\": \"\",\n        \"description\": \"\"\n      }\n    },\n    {\n      \"column\": \"Type\",\n      \"properties\": {\n        \"dtype\": \"string\",\n        \"num_unique_values\": 2,\n        \"samples\": [\n          \"debited\",\n          \"credited\"\n        ],\n        \"semantic_type\": \"\",\n        \"description\": \"\"\n      }\n    },\n    {\n      \"column\": \"Amount\",\n      \"properties\": {\n        \"dtype\": \"string\",\n        \"num_unique_values\": 3,\n        \"samples\": [\n          \"$500\",\n          \"$1,700\"\n        ],\n        \"semantic_type\": \"\",\n        \"description\": \"\"\n      }\n    },\n    {\n      \"column\": \"Date\",\n      \"properties\": {\n        \"dtype\": \"object\",\n        \"num_unique_values\": 3,\n        \"samples\": [\n          \"13-08-2020\",\n          \"14-08-2020\"\n        ],\n        \"semantic_type\": \"\",\n        \"description\": \"\"\n      }\n    }\n  ]\n}"
            }
          },
          "metadata": {},
          "execution_count": 30
        }
      ]
    },
    {
      "cell_type": "code",
      "source": [
        "#Running a sample pattern on some text\n",
        "string=\"Ajay credited $500 to your account on 13-08-2020.\\\n",
        "      Anmol debited $1,700 from your account on 14-08-2020.\\\n",
        "      Alex debited $100 on 16-08-2020 from your account.\"\n",
        "\n",
        "#Creating groups in the previous pattern\n",
        "pattern = \"([\\w]+) ([\\w]+) (\\$[\\d,]+) [a-zA-Z ]+ (\\d{2}-\\d{2}-\\d{4})\"\n",
        "result = re.finditer(pattern, string)\n",
        "\n",
        "for i in result:\n",
        "  print(i.group(0), '=>', i.group(1),'=>', i.group(2),'=>', i.group(3),'=>', i.group(4))\n",
        "\n",
        "#print(result)"
      ],
      "metadata": {
        "colab": {
          "base_uri": "https://localhost:8080/"
        },
        "id": "8gRc3gsr21ZL",
        "outputId": "6cfcfb0e-96d8-42ea-b2b2-f9945cd89917"
      },
      "execution_count": 33,
      "outputs": [
        {
          "output_type": "stream",
          "name": "stdout",
          "text": [
            "Ajay credited $500 to your account on 13-08-2020 => Ajay => credited => $500 => 13-08-2020\n",
            "Anmol debited $1,700 from your account on 14-08-2020 => Anmol => debited => $1,700 => 14-08-2020\n",
            "Alex debited $100 on 16-08-2020 => Alex => debited => $100 => 16-08-2020\n"
          ]
        }
      ]
    },
    {
      "cell_type": "code",
      "source": [
        "#Running a sample pattern on some text\n",
        "string=\"Ajay credited $500 to your account on 13-08-2020.\\\n",
        "      Anmol debited $1,700 from your account on 14-08-2020.\\\n",
        "      Alex debited $100 on 16-08-2020 from your account.\"\n",
        "\n",
        "#Naming groups\n",
        "pattern = \"(?P<Name>[\\w]+) (?P<Type>[\\w]+) (?P<Amount>\\$[\\d,]+) [a-zA-Z ]+ (?P<Date>\\d{2}-\\d{2}-\\d{4})\"\n",
        "result = list(re.finditer(pattern, string))\n",
        "\n",
        "for i in result:\n",
        "  print(i.group('Name'), '=>', i.group('Amount'),'=>', i.group('Date'),'=>', i.group('Type'))\n",
        "\n",
        "#print(result)"
      ],
      "metadata": {
        "colab": {
          "base_uri": "https://localhost:8080/"
        },
        "id": "ndojwzW24AbU",
        "outputId": "9b15258a-9762-4f0f-832d-d5358f198320"
      },
      "execution_count": 34,
      "outputs": [
        {
          "output_type": "stream",
          "name": "stdout",
          "text": [
            "Ajay => $500 => 13-08-2020 => credited\n",
            "Anmol => $1,700 => 14-08-2020 => debited\n",
            "Alex => $100 => 16-08-2020 => debited\n"
          ]
        }
      ]
    },
    {
      "cell_type": "code",
      "source": [
        "#Printing data with group names\n",
        "for i in result:\n",
        "  print(i.groupdict())"
      ],
      "metadata": {
        "colab": {
          "base_uri": "https://localhost:8080/"
        },
        "id": "l9yX8H2L5H8Y",
        "outputId": "40ad21b3-08f1-4a58-9250-af7cd93c17d2"
      },
      "execution_count": 35,
      "outputs": [
        {
          "output_type": "stream",
          "name": "stdout",
          "text": [
            "{'Name': 'Ajay', 'Type': 'credited', 'Amount': '$500', 'Date': '13-08-2020'}\n",
            "{'Name': 'Anmol', 'Type': 'debited', 'Amount': '$1,700', 'Date': '14-08-2020'}\n",
            "{'Name': 'Alex', 'Type': 'debited', 'Amount': '$100', 'Date': '16-08-2020'}\n"
          ]
        }
      ]
    },
    {
      "cell_type": "code",
      "source": [
        "import regex as re\n",
        "\n",
        "#assignment on Regex\n",
        "text = \"Sam started learning NLP on 02-01-2020. He created his first self project on 18-02-2019. After this, he worked hard and got an internship at ABC Pvt. Ltd. on 10-06-2019. Finally, he got his first job at XYZ Pvt. Ltd. on 22-10-2019.\"\n",
        "pattern = \"-2019\"\n",
        "repl = \"-2020\"\n",
        "\n",
        "#To correct year in all the dates to 2020\n",
        "result = re.sub(pattern, repl, text)\n",
        "text_final = result\n",
        "print(result)"
      ],
      "metadata": {
        "colab": {
          "base_uri": "https://localhost:8080/"
        },
        "id": "-Zyr0sia5laC",
        "outputId": "46937208-2f94-4f34-d746-6cf94d8b3383"
      },
      "execution_count": 6,
      "outputs": [
        {
          "output_type": "stream",
          "name": "stdout",
          "text": [
            "Sam started learning NLP on 02-01-2020. He created his first self project on 18-02-2020. After this, he worked hard and got an internship at ABC Pvt. Ltd. on 10-06-2020. Finally, he got his first job at XYZ Pvt. Ltd. on 22-10-2020.\n"
          ]
        }
      ]
    },
    {
      "cell_type": "code",
      "source": [
        "#Extract all the dates in the form of a list\n",
        "\n",
        "date_pattern = r'\\d{2}-\\d{2}-\\d{4}'\n",
        "\n",
        "result = list(re.findall(date_pattern, text_final))\n",
        "print(result)"
      ],
      "metadata": {
        "colab": {
          "base_uri": "https://localhost:8080/"
        },
        "id": "m6ybFmSsdoFb",
        "outputId": "dc9d12d8-5b23-4ce9-ce55-1120d2097164"
      },
      "execution_count": 7,
      "outputs": [
        {
          "output_type": "stream",
          "name": "stdout",
          "text": [
            "['02-01-2020', '18-02-2020', '10-06-2020', '22-10-2020']\n"
          ]
        }
      ]
    },
    {
      "cell_type": "code",
      "source": [
        "#Extract all the company Names\n",
        "company_part = \"\\w+ Pvt. Ltd.\"\n",
        "\n",
        "result = list(re.findall(company_part, text_final))\n",
        "print(result)"
      ],
      "metadata": {
        "colab": {
          "base_uri": "https://localhost:8080/"
        },
        "id": "IJDqoV91eYmR",
        "outputId": "4791a53c-9a38-4726-b7c1-e6a660853ac5"
      },
      "execution_count": 8,
      "outputs": [
        {
          "output_type": "stream",
          "name": "stdout",
          "text": [
            "['ABC Pvt. Ltd.', 'XYZ Pvt. Ltd.']\n"
          ]
        }
      ]
    }
  ]
}