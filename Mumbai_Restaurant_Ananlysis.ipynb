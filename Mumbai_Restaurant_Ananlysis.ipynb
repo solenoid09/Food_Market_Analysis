{
 "cells": [
  {
   "cell_type": "code",
   "execution_count": 3,
   "metadata": {},
   "outputs": [
    {
     "name": "stderr",
     "output_type": "stream",
     "text": [
      "Matplotlib is building the font cache; this may take a moment.\n"
     ]
    },
    {
     "data": {
      "text/html": [
       "<div>\n",
       "<style scoped>\n",
       "    .dataframe tbody tr th:only-of-type {\n",
       "        vertical-align: middle;\n",
       "    }\n",
       "\n",
       "    .dataframe tbody tr th {\n",
       "        vertical-align: top;\n",
       "    }\n",
       "\n",
       "    .dataframe thead th {\n",
       "        text-align: right;\n",
       "    }\n",
       "</style>\n",
       "<table border=\"1\" class=\"dataframe\">\n",
       "  <thead>\n",
       "    <tr style=\"text-align: right;\">\n",
       "      <th></th>\n",
       "      <th>Additional_outlet_count</th>\n",
       "      <th>Call</th>\n",
       "      <th>Cost_for_two(Rs.)</th>\n",
       "      <th>Cuisines</th>\n",
       "      <th>Features</th>\n",
       "      <th>Home_Delivery</th>\n",
       "      <th>Operational_hours</th>\n",
       "      <th>Restaurant_Location</th>\n",
       "      <th>Restaurant_Name</th>\n",
       "      <th>Restaurant_Type</th>\n",
       "      <th>...</th>\n",
       "      <th>Delivery_Time(mins)</th>\n",
       "      <th>Rating</th>\n",
       "      <th>Votes</th>\n",
       "      <th>Rating_Category</th>\n",
       "      <th>Operational_after_Midnight</th>\n",
       "      <th>Cuisine_count</th>\n",
       "      <th>Feature_Count</th>\n",
       "      <th>Res_Type_Count</th>\n",
       "      <th>Competitors_in_Location</th>\n",
       "      <th>Score</th>\n",
       "    </tr>\n",
       "  </thead>\n",
       "  <tbody>\n",
       "    <tr>\n",
       "      <th>0</th>\n",
       "      <td>1.0</td>\n",
       "      <td>True</td>\n",
       "      <td>1500</td>\n",
       "      <td>Finger Food, Continental, European, Italian</td>\n",
       "      <td>Food Hygiene Rated Restaurants In Mumbai, Best...</td>\n",
       "      <td>False</td>\n",
       "      <td>12noon – 1am (Mon-Sun)</td>\n",
       "      <td>Kamala Mills Compound</td>\n",
       "      <td>Lord of the Drinks</td>\n",
       "      <td>Lounge,Casual Dining</td>\n",
       "      <td>...</td>\n",
       "      <td>NaN</td>\n",
       "      <td>4.9</td>\n",
       "      <td>1326.0</td>\n",
       "      <td>Excellent</td>\n",
       "      <td>True</td>\n",
       "      <td>4</td>\n",
       "      <td>2</td>\n",
       "      <td>2</td>\n",
       "      <td>19.0</td>\n",
       "      <td>48.000806</td>\n",
       "    </tr>\n",
       "    <tr>\n",
       "      <th>1</th>\n",
       "      <td>1.0</td>\n",
       "      <td>True</td>\n",
       "      <td>800</td>\n",
       "      <td>Pizza</td>\n",
       "      <td>Value For Money, Best of Mumbai</td>\n",
       "      <td>False</td>\n",
       "      <td>11am – 12:30AM (Mon-Sun)</td>\n",
       "      <td>Malad West</td>\n",
       "      <td>Joey's Pizza</td>\n",
       "      <td>Quick Bites</td>\n",
       "      <td>...</td>\n",
       "      <td>NaN</td>\n",
       "      <td>4.6</td>\n",
       "      <td>5974.0</td>\n",
       "      <td>Excellent</td>\n",
       "      <td>True</td>\n",
       "      <td>1</td>\n",
       "      <td>2</td>\n",
       "      <td>1</td>\n",
       "      <td>209.0</td>\n",
       "      <td>71.950295</td>\n",
       "    </tr>\n",
       "    <tr>\n",
       "      <th>2</th>\n",
       "      <td>NaN</td>\n",
       "      <td>True</td>\n",
       "      <td>2500</td>\n",
       "      <td>Seafood</td>\n",
       "      <td>Super Seafood, Best of Mumbai</td>\n",
       "      <td>False</td>\n",
       "      <td>Closed (Mon),12noon – 3pm, 7pm – 12midnight...</td>\n",
       "      <td>Bandra West</td>\n",
       "      <td>Bastian</td>\n",
       "      <td>Casual Dining,Bar</td>\n",
       "      <td>...</td>\n",
       "      <td>NaN</td>\n",
       "      <td>4.5</td>\n",
       "      <td>1438.0</td>\n",
       "      <td>Excellent</td>\n",
       "      <td>False</td>\n",
       "      <td>1</td>\n",
       "      <td>2</td>\n",
       "      <td>2</td>\n",
       "      <td>241.0</td>\n",
       "      <td>43.160370</td>\n",
       "    </tr>\n",
       "    <tr>\n",
       "      <th>3</th>\n",
       "      <td>NaN</td>\n",
       "      <td>True</td>\n",
       "      <td>1800</td>\n",
       "      <td>Finger Food, Continental</td>\n",
       "      <td>Where's The Party?, Best of Mumbai, Food Hygie...</td>\n",
       "      <td>False</td>\n",
       "      <td>12noon – 1am (Mon-Sun)</td>\n",
       "      <td>Lower Parel</td>\n",
       "      <td>Tamasha</td>\n",
       "      <td>Lounge,Bar</td>\n",
       "      <td>...</td>\n",
       "      <td>NaN</td>\n",
       "      <td>4.9</td>\n",
       "      <td>3275.0</td>\n",
       "      <td>Excellent</td>\n",
       "      <td>True</td>\n",
       "      <td>2</td>\n",
       "      <td>3</td>\n",
       "      <td>2</td>\n",
       "      <td>125.0</td>\n",
       "      <td>59.778427</td>\n",
       "    </tr>\n",
       "    <tr>\n",
       "      <th>4</th>\n",
       "      <td>2.0</td>\n",
       "      <td>True</td>\n",
       "      <td>450</td>\n",
       "      <td>North Indian, Street Food, Fast Food, Chinese</td>\n",
       "      <td>NaN</td>\n",
       "      <td>True</td>\n",
       "      <td>12noon – 4pm, 7pm – 11:45pm (Mon-Sun)</td>\n",
       "      <td>Vashi</td>\n",
       "      <td>Bhagat Tarachand</td>\n",
       "      <td>Casual Dining</td>\n",
       "      <td>...</td>\n",
       "      <td>45.0</td>\n",
       "      <td>4.1</td>\n",
       "      <td>1422.0</td>\n",
       "      <td>Very Good</td>\n",
       "      <td>False</td>\n",
       "      <td>4</td>\n",
       "      <td>1</td>\n",
       "      <td>1</td>\n",
       "      <td>116.0</td>\n",
       "      <td>37.546442</td>\n",
       "    </tr>\n",
       "  </tbody>\n",
       "</table>\n",
       "<p>5 rows × 22 columns</p>\n",
       "</div>"
      ],
      "text/plain": [
       "   Additional_outlet_count  Call  Cost_for_two(Rs.)  \\\n",
       "0                      1.0  True               1500   \n",
       "1                      1.0  True                800   \n",
       "2                      NaN  True               2500   \n",
       "3                      NaN  True               1800   \n",
       "4                      2.0  True                450   \n",
       "\n",
       "                                        Cuisines  \\\n",
       "0    Finger Food, Continental, European, Italian   \n",
       "1                                          Pizza   \n",
       "2                                        Seafood   \n",
       "3                       Finger Food, Continental   \n",
       "4  North Indian, Street Food, Fast Food, Chinese   \n",
       "\n",
       "                                            Features  Home_Delivery  \\\n",
       "0  Food Hygiene Rated Restaurants In Mumbai, Best...          False   \n",
       "1                    Value For Money, Best of Mumbai          False   \n",
       "2                      Super Seafood, Best of Mumbai          False   \n",
       "3  Where's The Party?, Best of Mumbai, Food Hygie...          False   \n",
       "4                                                NaN           True   \n",
       "\n",
       "                                Operational_hours    Restaurant_Location  \\\n",
       "0                          12noon – 1am (Mon-Sun)  Kamala Mills Compound   \n",
       "1                        11am – 12:30AM (Mon-Sun)             Malad West   \n",
       "2  Closed (Mon),12noon – 3pm, 7pm – 12midnight...            Bandra West   \n",
       "3                          12noon – 1am (Mon-Sun)            Lower Parel   \n",
       "4           12noon – 4pm, 7pm – 11:45pm (Mon-Sun)                  Vashi   \n",
       "\n",
       "      Restaurant_Name       Restaurant_Type  ...  Delivery_Time(mins)  Rating  \\\n",
       "0  Lord of the Drinks  Lounge,Casual Dining  ...                  NaN     4.9   \n",
       "1        Joey's Pizza           Quick Bites  ...                  NaN     4.6   \n",
       "2             Bastian     Casual Dining,Bar  ...                  NaN     4.5   \n",
       "3             Tamasha            Lounge,Bar  ...                  NaN     4.9   \n",
       "4    Bhagat Tarachand         Casual Dining  ...                 45.0     4.1   \n",
       "\n",
       "    Votes  Rating_Category  Operational_after_Midnight Cuisine_count  \\\n",
       "0  1326.0        Excellent                        True             4   \n",
       "1  5974.0        Excellent                        True             1   \n",
       "2  1438.0        Excellent                       False             1   \n",
       "3  3275.0        Excellent                        True             2   \n",
       "4  1422.0        Very Good                       False             4   \n",
       "\n",
       "   Feature_Count  Res_Type_Count  Competitors_in_Location      Score  \n",
       "0              2               2                     19.0  48.000806  \n",
       "1              2               1                    209.0  71.950295  \n",
       "2              2               2                    241.0  43.160370  \n",
       "3              3               2                    125.0  59.778427  \n",
       "4              1               1                    116.0  37.546442  \n",
       "\n",
       "[5 rows x 22 columns]"
      ]
     },
     "execution_count": 3,
     "metadata": {},
     "output_type": "execute_result"
    }
   ],
   "source": [
    "import pandas as pd\n",
    "import numpy as np\n",
    "import seaborn as sns\n",
    "import matplotlib.pyplot as plt\n",
    "%matplotlib inline\n",
    "csv='C:\\\\Users\\\\solen\\\\OneDrive\\\\Desktop\\\\Mutual_Fund_2020\\\\DataScience-master\\\\zomato_res_final.csv'\n",
    "df=pd.read_csv(csv)\n",
    "df.head()\n",
    "\n"
   ]
  },
  {
   "cell_type": "markdown",
   "metadata": {},
   "source": [
    "Displaying Column names/data"
   ]
  },
  {
   "cell_type": "code",
   "execution_count": 7,
   "metadata": {},
   "outputs": [
    {
     "name": "stdout",
     "output_type": "stream",
     "text": [
      "Additional_outlet_count\n",
      "Call\n",
      "Cost_for_two(Rs.)\n",
      "Cuisines\n",
      "Features\n",
      "Home_Delivery\n",
      "Operational_hours\n",
      "Restaurant_Location\n",
      "Restaurant_Name\n",
      "Restaurant_Type\n",
      "View_Menu\n",
      "Min_Order(Rs.)\n",
      "Delivery_Time(mins)\n",
      "Rating\n",
      "Votes\n",
      "Rating_Category\n",
      "Operational_after_Midnight\n",
      "Cuisine_count\n",
      "Feature_Count\n",
      "Res_Type_Count\n",
      "Competitors_in_Location\n",
      "Score\n"
     ]
    }
   ],
   "source": [
    "for col in df.columns: \n",
    "    print(col) "
   ]
  },
  {
   "cell_type": "markdown",
   "metadata": {},
   "source": [
    "Reordering columns as restaurant name and restaurant location must appear first"
   ]
  },
  {
   "cell_type": "markdown",
   "metadata": {},
   "source": [
    "<h2>Data Cleaning</h2>"
   ]
  },
  {
   "cell_type": "markdown",
   "metadata": {},
   "source": [
    "\n",
    "\n",
    "<h2>Identifying missing values</h2>"
   ]
  },
  {
   "cell_type": "markdown",
   "metadata": {},
   "source": [
    "Checking for missing values"
   ]
  },
  {
   "cell_type": "code",
   "execution_count": 8,
   "metadata": {},
   "outputs": [
    {
     "name": "stdout",
     "output_type": "stream",
     "text": [
      "True\n"
     ]
    }
   ],
   "source": [
    "print(df.isnull().values.any())"
   ]
  },
  {
   "cell_type": "code",
   "execution_count": null,
   "metadata": {},
   "outputs": [],
   "source": []
  },
  {
   "cell_type": "markdown",
   "metadata": {},
   "source": [
    "In delivery_Time_min_order the <b>NaN</b> values can be replaced with <b>Average Delivery yime of the city</b>"
   ]
  },
  {
   "cell_type": "code",
   "execution_count": 9,
   "metadata": {},
   "outputs": [
    {
     "name": "stdout",
     "output_type": "stream",
     "text": [
      "Average of Delivery Time: 45.704267004647235\n"
     ]
    }
   ],
   "source": [
    "avg_time= df[\"Delivery_Time(mins)\"].astype(\"float\").mean(axis=0)\n",
    "print(\"Average of Delivery Time:\", avg_time)\n"
   ]
  },
  {
   "cell_type": "markdown",
   "metadata": {},
   "source": [
    "Now replacing NaN values with  Average delivery time"
   ]
  },
  {
   "cell_type": "code",
   "execution_count": 10,
   "metadata": {},
   "outputs": [
    {
     "data": {
      "text/plain": [
       "0       45.704267\n",
       "1       45.704267\n",
       "2       45.704267\n",
       "3       45.704267\n",
       "4       45.000000\n",
       "          ...    \n",
       "6521    45.000000\n",
       "6522    20.000000\n",
       "6523    45.704267\n",
       "6524    40.000000\n",
       "6525    45.704267\n",
       "Name: Delivery_Time(mins), Length: 6526, dtype: float64"
      ]
     },
     "execution_count": 10,
     "metadata": {},
     "output_type": "execute_result"
    }
   ],
   "source": [
    "df[\"Delivery_Time(mins)\"].replace(np.nan, avg_time, inplace=False)"
   ]
  },
  {
   "cell_type": "markdown",
   "metadata": {},
   "source": [
    "\n",
    "\n",
    "\n",
    "\n",
    "\n",
    "View_menu and Call colomn have no false values,which means every restaurant have those facilities.\n",
    "Removing menu and Call column"
   ]
  },
  {
   "cell_type": "code",
   "execution_count": 11,
   "metadata": {},
   "outputs": [
    {
     "data": {
      "text/html": [
       "<div>\n",
       "<style scoped>\n",
       "    .dataframe tbody tr th:only-of-type {\n",
       "        vertical-align: middle;\n",
       "    }\n",
       "\n",
       "    .dataframe tbody tr th {\n",
       "        vertical-align: top;\n",
       "    }\n",
       "\n",
       "    .dataframe thead th {\n",
       "        text-align: right;\n",
       "    }\n",
       "</style>\n",
       "<table border=\"1\" class=\"dataframe\">\n",
       "  <thead>\n",
       "    <tr style=\"text-align: right;\">\n",
       "      <th></th>\n",
       "      <th>Additional_outlet_count</th>\n",
       "      <th>Cost_for_two(Rs.)</th>\n",
       "      <th>Cuisines</th>\n",
       "      <th>Features</th>\n",
       "      <th>Home_Delivery</th>\n",
       "      <th>Operational_hours</th>\n",
       "      <th>Restaurant_Location</th>\n",
       "      <th>Restaurant_Name</th>\n",
       "      <th>Restaurant_Type</th>\n",
       "      <th>Min_Order(Rs.)</th>\n",
       "      <th>Delivery_Time(mins)</th>\n",
       "      <th>Rating</th>\n",
       "      <th>Votes</th>\n",
       "      <th>Rating_Category</th>\n",
       "      <th>Operational_after_Midnight</th>\n",
       "      <th>Cuisine_count</th>\n",
       "      <th>Feature_Count</th>\n",
       "      <th>Res_Type_Count</th>\n",
       "      <th>Competitors_in_Location</th>\n",
       "      <th>Score</th>\n",
       "    </tr>\n",
       "  </thead>\n",
       "  <tbody>\n",
       "    <tr>\n",
       "      <th>0</th>\n",
       "      <td>1.0</td>\n",
       "      <td>1500</td>\n",
       "      <td>Finger Food, Continental, European, Italian</td>\n",
       "      <td>Food Hygiene Rated Restaurants In Mumbai, Best...</td>\n",
       "      <td>False</td>\n",
       "      <td>12noon – 1am (Mon-Sun)</td>\n",
       "      <td>Kamala Mills Compound</td>\n",
       "      <td>Lord of the Drinks</td>\n",
       "      <td>Lounge,Casual Dining</td>\n",
       "      <td>NaN</td>\n",
       "      <td>NaN</td>\n",
       "      <td>4.9</td>\n",
       "      <td>1326.0</td>\n",
       "      <td>Excellent</td>\n",
       "      <td>True</td>\n",
       "      <td>4</td>\n",
       "      <td>2</td>\n",
       "      <td>2</td>\n",
       "      <td>19.0</td>\n",
       "      <td>48.000806</td>\n",
       "    </tr>\n",
       "    <tr>\n",
       "      <th>1</th>\n",
       "      <td>1.0</td>\n",
       "      <td>800</td>\n",
       "      <td>Pizza</td>\n",
       "      <td>Value For Money, Best of Mumbai</td>\n",
       "      <td>False</td>\n",
       "      <td>11am – 12:30AM (Mon-Sun)</td>\n",
       "      <td>Malad West</td>\n",
       "      <td>Joey's Pizza</td>\n",
       "      <td>Quick Bites</td>\n",
       "      <td>NaN</td>\n",
       "      <td>NaN</td>\n",
       "      <td>4.6</td>\n",
       "      <td>5974.0</td>\n",
       "      <td>Excellent</td>\n",
       "      <td>True</td>\n",
       "      <td>1</td>\n",
       "      <td>2</td>\n",
       "      <td>1</td>\n",
       "      <td>209.0</td>\n",
       "      <td>71.950295</td>\n",
       "    </tr>\n",
       "    <tr>\n",
       "      <th>2</th>\n",
       "      <td>NaN</td>\n",
       "      <td>2500</td>\n",
       "      <td>Seafood</td>\n",
       "      <td>Super Seafood, Best of Mumbai</td>\n",
       "      <td>False</td>\n",
       "      <td>Closed (Mon),12noon – 3pm, 7pm – 12midnight...</td>\n",
       "      <td>Bandra West</td>\n",
       "      <td>Bastian</td>\n",
       "      <td>Casual Dining,Bar</td>\n",
       "      <td>NaN</td>\n",
       "      <td>NaN</td>\n",
       "      <td>4.5</td>\n",
       "      <td>1438.0</td>\n",
       "      <td>Excellent</td>\n",
       "      <td>False</td>\n",
       "      <td>1</td>\n",
       "      <td>2</td>\n",
       "      <td>2</td>\n",
       "      <td>241.0</td>\n",
       "      <td>43.160370</td>\n",
       "    </tr>\n",
       "    <tr>\n",
       "      <th>3</th>\n",
       "      <td>NaN</td>\n",
       "      <td>1800</td>\n",
       "      <td>Finger Food, Continental</td>\n",
       "      <td>Where's The Party?, Best of Mumbai, Food Hygie...</td>\n",
       "      <td>False</td>\n",
       "      <td>12noon – 1am (Mon-Sun)</td>\n",
       "      <td>Lower Parel</td>\n",
       "      <td>Tamasha</td>\n",
       "      <td>Lounge,Bar</td>\n",
       "      <td>NaN</td>\n",
       "      <td>NaN</td>\n",
       "      <td>4.9</td>\n",
       "      <td>3275.0</td>\n",
       "      <td>Excellent</td>\n",
       "      <td>True</td>\n",
       "      <td>2</td>\n",
       "      <td>3</td>\n",
       "      <td>2</td>\n",
       "      <td>125.0</td>\n",
       "      <td>59.778427</td>\n",
       "    </tr>\n",
       "    <tr>\n",
       "      <th>4</th>\n",
       "      <td>2.0</td>\n",
       "      <td>450</td>\n",
       "      <td>North Indian, Street Food, Fast Food, Chinese</td>\n",
       "      <td>NaN</td>\n",
       "      <td>True</td>\n",
       "      <td>12noon – 4pm, 7pm – 11:45pm (Mon-Sun)</td>\n",
       "      <td>Vashi</td>\n",
       "      <td>Bhagat Tarachand</td>\n",
       "      <td>Casual Dining</td>\n",
       "      <td>0.0</td>\n",
       "      <td>45.0</td>\n",
       "      <td>4.1</td>\n",
       "      <td>1422.0</td>\n",
       "      <td>Very Good</td>\n",
       "      <td>False</td>\n",
       "      <td>4</td>\n",
       "      <td>1</td>\n",
       "      <td>1</td>\n",
       "      <td>116.0</td>\n",
       "      <td>37.546442</td>\n",
       "    </tr>\n",
       "    <tr>\n",
       "      <th>...</th>\n",
       "      <td>...</td>\n",
       "      <td>...</td>\n",
       "      <td>...</td>\n",
       "      <td>...</td>\n",
       "      <td>...</td>\n",
       "      <td>...</td>\n",
       "      <td>...</td>\n",
       "      <td>...</td>\n",
       "      <td>...</td>\n",
       "      <td>...</td>\n",
       "      <td>...</td>\n",
       "      <td>...</td>\n",
       "      <td>...</td>\n",
       "      <td>...</td>\n",
       "      <td>...</td>\n",
       "      <td>...</td>\n",
       "      <td>...</td>\n",
       "      <td>...</td>\n",
       "      <td>...</td>\n",
       "      <td>...</td>\n",
       "    </tr>\n",
       "    <tr>\n",
       "      <th>6521</th>\n",
       "      <td>NaN</td>\n",
       "      <td>600</td>\n",
       "      <td>South Indian, North Indian, Chinese, Fast Food...</td>\n",
       "      <td>NaN</td>\n",
       "      <td>True</td>\n",
       "      <td>8am – 12midnight (Mon-Sun)</td>\n",
       "      <td>Chembur</td>\n",
       "      <td>Hotel Shreedevi</td>\n",
       "      <td>Casual Dining</td>\n",
       "      <td>99.0</td>\n",
       "      <td>45.0</td>\n",
       "      <td>3.5</td>\n",
       "      <td>115.0</td>\n",
       "      <td>Good</td>\n",
       "      <td>False</td>\n",
       "      <td>5</td>\n",
       "      <td>1</td>\n",
       "      <td>1</td>\n",
       "      <td>148.0</td>\n",
       "      <td>21.372503</td>\n",
       "    </tr>\n",
       "    <tr>\n",
       "      <th>6522</th>\n",
       "      <td>NaN</td>\n",
       "      <td>550</td>\n",
       "      <td>Fast Food, North Indian</td>\n",
       "      <td>NaN</td>\n",
       "      <td>True</td>\n",
       "      <td>9am – 9pm (Mon, Wed, Thu, Fri, Sat, Sun), Clos...</td>\n",
       "      <td>Bandra West</td>\n",
       "      <td>Mac Craig</td>\n",
       "      <td>Quick Bites</td>\n",
       "      <td>99.0</td>\n",
       "      <td>20.0</td>\n",
       "      <td>3.5</td>\n",
       "      <td>121.0</td>\n",
       "      <td>Good</td>\n",
       "      <td>False</td>\n",
       "      <td>2</td>\n",
       "      <td>1</td>\n",
       "      <td>1</td>\n",
       "      <td>241.0</td>\n",
       "      <td>21.408761</td>\n",
       "    </tr>\n",
       "    <tr>\n",
       "      <th>6523</th>\n",
       "      <td>NaN</td>\n",
       "      <td>350</td>\n",
       "      <td>Fast Food, Beverages, Rolls</td>\n",
       "      <td>NaN</td>\n",
       "      <td>False</td>\n",
       "      <td>8am – 1:30am (Mon-Sun)</td>\n",
       "      <td>Juhu</td>\n",
       "      <td>Ice n Rolls</td>\n",
       "      <td>Quick Bites</td>\n",
       "      <td>NaN</td>\n",
       "      <td>NaN</td>\n",
       "      <td>3.5</td>\n",
       "      <td>213.0</td>\n",
       "      <td>Good</td>\n",
       "      <td>True</td>\n",
       "      <td>3</td>\n",
       "      <td>1</td>\n",
       "      <td>1</td>\n",
       "      <td>100.0</td>\n",
       "      <td>21.964708</td>\n",
       "    </tr>\n",
       "    <tr>\n",
       "      <th>6524</th>\n",
       "      <td>NaN</td>\n",
       "      <td>2000</td>\n",
       "      <td>Seafood, Chinese</td>\n",
       "      <td>NaN</td>\n",
       "      <td>True</td>\n",
       "      <td>12noon – 12:30AM (Mon-Sun)</td>\n",
       "      <td>Juhu</td>\n",
       "      <td>Temple Flower - Hotel Kings International</td>\n",
       "      <td>Casual Dining</td>\n",
       "      <td>99.0</td>\n",
       "      <td>40.0</td>\n",
       "      <td>2.6</td>\n",
       "      <td>195.0</td>\n",
       "      <td>Average</td>\n",
       "      <td>True</td>\n",
       "      <td>2</td>\n",
       "      <td>1</td>\n",
       "      <td>1</td>\n",
       "      <td>100.0</td>\n",
       "      <td>9.442143</td>\n",
       "    </tr>\n",
       "    <tr>\n",
       "      <th>6525</th>\n",
       "      <td>NaN</td>\n",
       "      <td>600</td>\n",
       "      <td>North Indian, Chinese, Seafood</td>\n",
       "      <td>NaN</td>\n",
       "      <td>False</td>\n",
       "      <td>11am – 12midnight (Mon-Sun)</td>\n",
       "      <td>CBD-Belapur</td>\n",
       "      <td>Turning Point</td>\n",
       "      <td>Casual Dining</td>\n",
       "      <td>NaN</td>\n",
       "      <td>NaN</td>\n",
       "      <td>3.4</td>\n",
       "      <td>53.0</td>\n",
       "      <td>Average</td>\n",
       "      <td>False</td>\n",
       "      <td>3</td>\n",
       "      <td>1</td>\n",
       "      <td>1</td>\n",
       "      <td>58.0</td>\n",
       "      <td>19.618533</td>\n",
       "    </tr>\n",
       "  </tbody>\n",
       "</table>\n",
       "<p>6526 rows × 20 columns</p>\n",
       "</div>"
      ],
      "text/plain": [
       "      Additional_outlet_count  Cost_for_two(Rs.)  \\\n",
       "0                         1.0               1500   \n",
       "1                         1.0                800   \n",
       "2                         NaN               2500   \n",
       "3                         NaN               1800   \n",
       "4                         2.0                450   \n",
       "...                       ...                ...   \n",
       "6521                      NaN                600   \n",
       "6522                      NaN                550   \n",
       "6523                      NaN                350   \n",
       "6524                      NaN               2000   \n",
       "6525                      NaN                600   \n",
       "\n",
       "                                               Cuisines  \\\n",
       "0           Finger Food, Continental, European, Italian   \n",
       "1                                                 Pizza   \n",
       "2                                               Seafood   \n",
       "3                              Finger Food, Continental   \n",
       "4         North Indian, Street Food, Fast Food, Chinese   \n",
       "...                                                 ...   \n",
       "6521  South Indian, North Indian, Chinese, Fast Food...   \n",
       "6522                            Fast Food, North Indian   \n",
       "6523                        Fast Food, Beverages, Rolls   \n",
       "6524                                   Seafood, Chinese   \n",
       "6525                     North Indian, Chinese, Seafood   \n",
       "\n",
       "                                               Features  Home_Delivery  \\\n",
       "0     Food Hygiene Rated Restaurants In Mumbai, Best...          False   \n",
       "1                       Value For Money, Best of Mumbai          False   \n",
       "2                         Super Seafood, Best of Mumbai          False   \n",
       "3     Where's The Party?, Best of Mumbai, Food Hygie...          False   \n",
       "4                                                   NaN           True   \n",
       "...                                                 ...            ...   \n",
       "6521                                                NaN           True   \n",
       "6522                                                NaN           True   \n",
       "6523                                                NaN          False   \n",
       "6524                                                NaN           True   \n",
       "6525                                                NaN          False   \n",
       "\n",
       "                                      Operational_hours  \\\n",
       "0                                12noon – 1am (Mon-Sun)   \n",
       "1                              11am – 12:30AM (Mon-Sun)   \n",
       "2        Closed (Mon),12noon – 3pm, 7pm – 12midnight...   \n",
       "3                                12noon – 1am (Mon-Sun)   \n",
       "4                 12noon – 4pm, 7pm – 11:45pm (Mon-Sun)   \n",
       "...                                                 ...   \n",
       "6521                         8am – 12midnight (Mon-Sun)   \n",
       "6522  9am – 9pm (Mon, Wed, Thu, Fri, Sat, Sun), Clos...   \n",
       "6523                             8am – 1:30am (Mon-Sun)   \n",
       "6524                         12noon – 12:30AM (Mon-Sun)   \n",
       "6525                        11am – 12midnight (Mon-Sun)   \n",
       "\n",
       "        Restaurant_Location                            Restaurant_Name  \\\n",
       "0     Kamala Mills Compound                         Lord of the Drinks   \n",
       "1                Malad West                               Joey's Pizza   \n",
       "2               Bandra West                                    Bastian   \n",
       "3               Lower Parel                                    Tamasha   \n",
       "4                     Vashi                           Bhagat Tarachand   \n",
       "...                     ...                                        ...   \n",
       "6521                Chembur                            Hotel Shreedevi   \n",
       "6522            Bandra West                                  Mac Craig   \n",
       "6523                   Juhu                                Ice n Rolls   \n",
       "6524                   Juhu  Temple Flower - Hotel Kings International   \n",
       "6525            CBD-Belapur                              Turning Point   \n",
       "\n",
       "           Restaurant_Type  Min_Order(Rs.)  Delivery_Time(mins)  Rating  \\\n",
       "0     Lounge,Casual Dining             NaN                  NaN     4.9   \n",
       "1              Quick Bites             NaN                  NaN     4.6   \n",
       "2        Casual Dining,Bar             NaN                  NaN     4.5   \n",
       "3               Lounge,Bar             NaN                  NaN     4.9   \n",
       "4            Casual Dining             0.0                 45.0     4.1   \n",
       "...                    ...             ...                  ...     ...   \n",
       "6521         Casual Dining            99.0                 45.0     3.5   \n",
       "6522           Quick Bites            99.0                 20.0     3.5   \n",
       "6523           Quick Bites             NaN                  NaN     3.5   \n",
       "6524         Casual Dining            99.0                 40.0     2.6   \n",
       "6525         Casual Dining             NaN                  NaN     3.4   \n",
       "\n",
       "       Votes Rating_Category  Operational_after_Midnight  Cuisine_count  \\\n",
       "0     1326.0       Excellent                        True              4   \n",
       "1     5974.0       Excellent                        True              1   \n",
       "2     1438.0       Excellent                       False              1   \n",
       "3     3275.0       Excellent                        True              2   \n",
       "4     1422.0       Very Good                       False              4   \n",
       "...      ...             ...                         ...            ...   \n",
       "6521   115.0            Good                       False              5   \n",
       "6522   121.0            Good                       False              2   \n",
       "6523   213.0            Good                        True              3   \n",
       "6524   195.0         Average                        True              2   \n",
       "6525    53.0         Average                       False              3   \n",
       "\n",
       "      Feature_Count  Res_Type_Count  Competitors_in_Location      Score  \n",
       "0                 2               2                     19.0  48.000806  \n",
       "1                 2               1                    209.0  71.950295  \n",
       "2                 2               2                    241.0  43.160370  \n",
       "3                 3               2                    125.0  59.778427  \n",
       "4                 1               1                    116.0  37.546442  \n",
       "...             ...             ...                      ...        ...  \n",
       "6521              1               1                    148.0  21.372503  \n",
       "6522              1               1                    241.0  21.408761  \n",
       "6523              1               1                    100.0  21.964708  \n",
       "6524              1               1                    100.0   9.442143  \n",
       "6525              1               1                     58.0  19.618533  \n",
       "\n",
       "[6526 rows x 20 columns]"
      ]
     },
     "execution_count": 11,
     "metadata": {},
     "output_type": "execute_result"
    }
   ],
   "source": [
    "df.drop(['View_Menu', 'Call'], axis=1)"
   ]
  },
  {
   "cell_type": "code",
   "execution_count": 12,
   "metadata": {},
   "outputs": [],
   "source": [
    "c=df[\"Competitors_in_Location\"].mean()\n",
    "df[\"Competitors_in_Location\"].fillna(c, inplace = True)\n"
   ]
  },
  {
   "cell_type": "markdown",
   "metadata": {},
   "source": [
    "In Additional_outlet_count the <b>NaN</b> values can be replaced with <b>0</b>\n",
    "\n"
   ]
  },
  {
   "cell_type": "code",
   "execution_count": 13,
   "metadata": {},
   "outputs": [],
   "source": [
    "hb=0\n",
    "df[\"Additional_outlet_count\"].fillna(hb, inplace = True) \n"
   ]
  },
  {
   "cell_type": "markdown",
   "metadata": {},
   "source": [
    "In the rating"
   ]
  },
  {
   "cell_type": "code",
   "execution_count": 14,
   "metadata": {},
   "outputs": [
    {
     "data": {
      "text/html": [
       "<div>\n",
       "<style scoped>\n",
       "    .dataframe tbody tr th:only-of-type {\n",
       "        vertical-align: middle;\n",
       "    }\n",
       "\n",
       "    .dataframe tbody tr th {\n",
       "        vertical-align: top;\n",
       "    }\n",
       "\n",
       "    .dataframe thead th {\n",
       "        text-align: right;\n",
       "    }\n",
       "</style>\n",
       "<table border=\"1\" class=\"dataframe\">\n",
       "  <thead>\n",
       "    <tr style=\"text-align: right;\">\n",
       "      <th></th>\n",
       "      <th>Additional_outlet_count</th>\n",
       "      <th>Call</th>\n",
       "      <th>Cost_for_two(Rs.)</th>\n",
       "      <th>Cuisines</th>\n",
       "      <th>Features</th>\n",
       "      <th>Home_Delivery</th>\n",
       "      <th>Operational_hours</th>\n",
       "      <th>Restaurant_Location</th>\n",
       "      <th>Restaurant_Name</th>\n",
       "      <th>Restaurant_Type</th>\n",
       "      <th>...</th>\n",
       "      <th>Delivery_Time(mins)</th>\n",
       "      <th>Rating</th>\n",
       "      <th>Votes</th>\n",
       "      <th>Rating_Category</th>\n",
       "      <th>Operational_after_Midnight</th>\n",
       "      <th>Cuisine_count</th>\n",
       "      <th>Feature_Count</th>\n",
       "      <th>Res_Type_Count</th>\n",
       "      <th>Competitors_in_Location</th>\n",
       "      <th>Score</th>\n",
       "    </tr>\n",
       "  </thead>\n",
       "  <tbody>\n",
       "    <tr>\n",
       "      <th>0</th>\n",
       "      <td>False</td>\n",
       "      <td>False</td>\n",
       "      <td>False</td>\n",
       "      <td>False</td>\n",
       "      <td>False</td>\n",
       "      <td>False</td>\n",
       "      <td>False</td>\n",
       "      <td>False</td>\n",
       "      <td>False</td>\n",
       "      <td>False</td>\n",
       "      <td>...</td>\n",
       "      <td>True</td>\n",
       "      <td>False</td>\n",
       "      <td>False</td>\n",
       "      <td>False</td>\n",
       "      <td>False</td>\n",
       "      <td>False</td>\n",
       "      <td>False</td>\n",
       "      <td>False</td>\n",
       "      <td>False</td>\n",
       "      <td>False</td>\n",
       "    </tr>\n",
       "    <tr>\n",
       "      <th>1</th>\n",
       "      <td>False</td>\n",
       "      <td>False</td>\n",
       "      <td>False</td>\n",
       "      <td>False</td>\n",
       "      <td>False</td>\n",
       "      <td>False</td>\n",
       "      <td>False</td>\n",
       "      <td>False</td>\n",
       "      <td>False</td>\n",
       "      <td>False</td>\n",
       "      <td>...</td>\n",
       "      <td>True</td>\n",
       "      <td>False</td>\n",
       "      <td>False</td>\n",
       "      <td>False</td>\n",
       "      <td>False</td>\n",
       "      <td>False</td>\n",
       "      <td>False</td>\n",
       "      <td>False</td>\n",
       "      <td>False</td>\n",
       "      <td>False</td>\n",
       "    </tr>\n",
       "    <tr>\n",
       "      <th>2</th>\n",
       "      <td>False</td>\n",
       "      <td>False</td>\n",
       "      <td>False</td>\n",
       "      <td>False</td>\n",
       "      <td>False</td>\n",
       "      <td>False</td>\n",
       "      <td>False</td>\n",
       "      <td>False</td>\n",
       "      <td>False</td>\n",
       "      <td>False</td>\n",
       "      <td>...</td>\n",
       "      <td>True</td>\n",
       "      <td>False</td>\n",
       "      <td>False</td>\n",
       "      <td>False</td>\n",
       "      <td>False</td>\n",
       "      <td>False</td>\n",
       "      <td>False</td>\n",
       "      <td>False</td>\n",
       "      <td>False</td>\n",
       "      <td>False</td>\n",
       "    </tr>\n",
       "    <tr>\n",
       "      <th>3</th>\n",
       "      <td>False</td>\n",
       "      <td>False</td>\n",
       "      <td>False</td>\n",
       "      <td>False</td>\n",
       "      <td>False</td>\n",
       "      <td>False</td>\n",
       "      <td>False</td>\n",
       "      <td>False</td>\n",
       "      <td>False</td>\n",
       "      <td>False</td>\n",
       "      <td>...</td>\n",
       "      <td>True</td>\n",
       "      <td>False</td>\n",
       "      <td>False</td>\n",
       "      <td>False</td>\n",
       "      <td>False</td>\n",
       "      <td>False</td>\n",
       "      <td>False</td>\n",
       "      <td>False</td>\n",
       "      <td>False</td>\n",
       "      <td>False</td>\n",
       "    </tr>\n",
       "    <tr>\n",
       "      <th>4</th>\n",
       "      <td>False</td>\n",
       "      <td>False</td>\n",
       "      <td>False</td>\n",
       "      <td>False</td>\n",
       "      <td>True</td>\n",
       "      <td>False</td>\n",
       "      <td>False</td>\n",
       "      <td>False</td>\n",
       "      <td>False</td>\n",
       "      <td>False</td>\n",
       "      <td>...</td>\n",
       "      <td>False</td>\n",
       "      <td>False</td>\n",
       "      <td>False</td>\n",
       "      <td>False</td>\n",
       "      <td>False</td>\n",
       "      <td>False</td>\n",
       "      <td>False</td>\n",
       "      <td>False</td>\n",
       "      <td>False</td>\n",
       "      <td>False</td>\n",
       "    </tr>\n",
       "    <tr>\n",
       "      <th>...</th>\n",
       "      <td>...</td>\n",
       "      <td>...</td>\n",
       "      <td>...</td>\n",
       "      <td>...</td>\n",
       "      <td>...</td>\n",
       "      <td>...</td>\n",
       "      <td>...</td>\n",
       "      <td>...</td>\n",
       "      <td>...</td>\n",
       "      <td>...</td>\n",
       "      <td>...</td>\n",
       "      <td>...</td>\n",
       "      <td>...</td>\n",
       "      <td>...</td>\n",
       "      <td>...</td>\n",
       "      <td>...</td>\n",
       "      <td>...</td>\n",
       "      <td>...</td>\n",
       "      <td>...</td>\n",
       "      <td>...</td>\n",
       "      <td>...</td>\n",
       "    </tr>\n",
       "    <tr>\n",
       "      <th>6521</th>\n",
       "      <td>False</td>\n",
       "      <td>False</td>\n",
       "      <td>False</td>\n",
       "      <td>False</td>\n",
       "      <td>True</td>\n",
       "      <td>False</td>\n",
       "      <td>False</td>\n",
       "      <td>False</td>\n",
       "      <td>False</td>\n",
       "      <td>False</td>\n",
       "      <td>...</td>\n",
       "      <td>False</td>\n",
       "      <td>False</td>\n",
       "      <td>False</td>\n",
       "      <td>False</td>\n",
       "      <td>False</td>\n",
       "      <td>False</td>\n",
       "      <td>False</td>\n",
       "      <td>False</td>\n",
       "      <td>False</td>\n",
       "      <td>False</td>\n",
       "    </tr>\n",
       "    <tr>\n",
       "      <th>6522</th>\n",
       "      <td>False</td>\n",
       "      <td>False</td>\n",
       "      <td>False</td>\n",
       "      <td>False</td>\n",
       "      <td>True</td>\n",
       "      <td>False</td>\n",
       "      <td>False</td>\n",
       "      <td>False</td>\n",
       "      <td>False</td>\n",
       "      <td>False</td>\n",
       "      <td>...</td>\n",
       "      <td>False</td>\n",
       "      <td>False</td>\n",
       "      <td>False</td>\n",
       "      <td>False</td>\n",
       "      <td>False</td>\n",
       "      <td>False</td>\n",
       "      <td>False</td>\n",
       "      <td>False</td>\n",
       "      <td>False</td>\n",
       "      <td>False</td>\n",
       "    </tr>\n",
       "    <tr>\n",
       "      <th>6523</th>\n",
       "      <td>False</td>\n",
       "      <td>False</td>\n",
       "      <td>False</td>\n",
       "      <td>False</td>\n",
       "      <td>True</td>\n",
       "      <td>False</td>\n",
       "      <td>False</td>\n",
       "      <td>False</td>\n",
       "      <td>False</td>\n",
       "      <td>False</td>\n",
       "      <td>...</td>\n",
       "      <td>True</td>\n",
       "      <td>False</td>\n",
       "      <td>False</td>\n",
       "      <td>False</td>\n",
       "      <td>False</td>\n",
       "      <td>False</td>\n",
       "      <td>False</td>\n",
       "      <td>False</td>\n",
       "      <td>False</td>\n",
       "      <td>False</td>\n",
       "    </tr>\n",
       "    <tr>\n",
       "      <th>6524</th>\n",
       "      <td>False</td>\n",
       "      <td>False</td>\n",
       "      <td>False</td>\n",
       "      <td>False</td>\n",
       "      <td>True</td>\n",
       "      <td>False</td>\n",
       "      <td>False</td>\n",
       "      <td>False</td>\n",
       "      <td>False</td>\n",
       "      <td>False</td>\n",
       "      <td>...</td>\n",
       "      <td>False</td>\n",
       "      <td>False</td>\n",
       "      <td>False</td>\n",
       "      <td>False</td>\n",
       "      <td>False</td>\n",
       "      <td>False</td>\n",
       "      <td>False</td>\n",
       "      <td>False</td>\n",
       "      <td>False</td>\n",
       "      <td>False</td>\n",
       "    </tr>\n",
       "    <tr>\n",
       "      <th>6525</th>\n",
       "      <td>False</td>\n",
       "      <td>False</td>\n",
       "      <td>False</td>\n",
       "      <td>False</td>\n",
       "      <td>True</td>\n",
       "      <td>False</td>\n",
       "      <td>False</td>\n",
       "      <td>False</td>\n",
       "      <td>False</td>\n",
       "      <td>False</td>\n",
       "      <td>...</td>\n",
       "      <td>True</td>\n",
       "      <td>False</td>\n",
       "      <td>False</td>\n",
       "      <td>False</td>\n",
       "      <td>False</td>\n",
       "      <td>False</td>\n",
       "      <td>False</td>\n",
       "      <td>False</td>\n",
       "      <td>False</td>\n",
       "      <td>False</td>\n",
       "    </tr>\n",
       "  </tbody>\n",
       "</table>\n",
       "<p>6526 rows × 22 columns</p>\n",
       "</div>"
      ],
      "text/plain": [
       "      Additional_outlet_count   Call  Cost_for_two(Rs.)  Cuisines  Features  \\\n",
       "0                       False  False              False     False     False   \n",
       "1                       False  False              False     False     False   \n",
       "2                       False  False              False     False     False   \n",
       "3                       False  False              False     False     False   \n",
       "4                       False  False              False     False      True   \n",
       "...                       ...    ...                ...       ...       ...   \n",
       "6521                    False  False              False     False      True   \n",
       "6522                    False  False              False     False      True   \n",
       "6523                    False  False              False     False      True   \n",
       "6524                    False  False              False     False      True   \n",
       "6525                    False  False              False     False      True   \n",
       "\n",
       "      Home_Delivery  Operational_hours  Restaurant_Location  Restaurant_Name  \\\n",
       "0             False              False                False            False   \n",
       "1             False              False                False            False   \n",
       "2             False              False                False            False   \n",
       "3             False              False                False            False   \n",
       "4             False              False                False            False   \n",
       "...             ...                ...                  ...              ...   \n",
       "6521          False              False                False            False   \n",
       "6522          False              False                False            False   \n",
       "6523          False              False                False            False   \n",
       "6524          False              False                False            False   \n",
       "6525          False              False                False            False   \n",
       "\n",
       "      Restaurant_Type  ...  Delivery_Time(mins)  Rating  Votes  \\\n",
       "0               False  ...                 True   False  False   \n",
       "1               False  ...                 True   False  False   \n",
       "2               False  ...                 True   False  False   \n",
       "3               False  ...                 True   False  False   \n",
       "4               False  ...                False   False  False   \n",
       "...               ...  ...                  ...     ...    ...   \n",
       "6521            False  ...                False   False  False   \n",
       "6522            False  ...                False   False  False   \n",
       "6523            False  ...                 True   False  False   \n",
       "6524            False  ...                False   False  False   \n",
       "6525            False  ...                 True   False  False   \n",
       "\n",
       "      Rating_Category  Operational_after_Midnight  Cuisine_count  \\\n",
       "0               False                       False          False   \n",
       "1               False                       False          False   \n",
       "2               False                       False          False   \n",
       "3               False                       False          False   \n",
       "4               False                       False          False   \n",
       "...               ...                         ...            ...   \n",
       "6521            False                       False          False   \n",
       "6522            False                       False          False   \n",
       "6523            False                       False          False   \n",
       "6524            False                       False          False   \n",
       "6525            False                       False          False   \n",
       "\n",
       "      Feature_Count  Res_Type_Count  Competitors_in_Location  Score  \n",
       "0             False           False                    False  False  \n",
       "1             False           False                    False  False  \n",
       "2             False           False                    False  False  \n",
       "3             False           False                    False  False  \n",
       "4             False           False                    False  False  \n",
       "...             ...             ...                      ...    ...  \n",
       "6521          False           False                    False  False  \n",
       "6522          False           False                    False  False  \n",
       "6523          False           False                    False  False  \n",
       "6524          False           False                    False  False  \n",
       "6525          False           False                    False  False  \n",
       "\n",
       "[6526 rows x 22 columns]"
      ]
     },
     "execution_count": 14,
     "metadata": {},
     "output_type": "execute_result"
    }
   ],
   "source": [
    "df.isnull()"
   ]
  },
  {
   "cell_type": "markdown",
   "metadata": {},
   "source": [
    "\n",
    "\n",
    "In,<b>Features column some values are Null so we change it to Not available\n",
    "    "
   ]
  },
  {
   "cell_type": "code",
   "execution_count": 15,
   "metadata": {},
   "outputs": [],
   "source": [
    "df[\"Features\"].fillna(\"Not Available\", inplace = True) \n"
   ]
  },
  {
   "cell_type": "code",
   "execution_count": 16,
   "metadata": {},
   "outputs": [
    {
     "name": "stdout",
     "output_type": "stream",
     "text": [
      "Casual Dining                 2759\n",
      "Quick Bites                   1619\n",
      "Café                           238\n",
      "Dessert Parlor                 222\n",
      "Bakery                         182\n",
      "                              ... \n",
      "Food Court,Dessert Parlor        1\n",
      "Casual Dining,Bakery             1\n",
      "Casual Dining,Cocktail Bar       1\n",
      "Irani Cafe                       1\n",
      "Lounge,Pub                       1\n",
      "Name: Restaurant_Type, Length: 73, dtype: int64\n"
     ]
    }
   ],
   "source": [
    "count = df['Restaurant_Type'].value_counts()\n",
    "print(count)"
   ]
  },
  {
   "cell_type": "markdown",
   "metadata": {},
   "source": [
    "From the Dataset, we can see that the 'Cuisines' Column has multiple values.\n",
    "So we split each value separated by comma."
   ]
  },
  {
   "cell_type": "markdown",
   "metadata": {},
   "source": [
    "Chinese, North Indian and North Indian, Chinese are same so replacing"
   ]
  },
  {
   "cell_type": "code",
   "execution_count": 17,
   "metadata": {},
   "outputs": [
    {
     "name": "stdout",
     "output_type": "stream",
     "text": [
      "North Indian, Chinese                                                        423\n",
      "Fast Food                                                                    261\n",
      "Chinese                                                                      235\n",
      "North Indian                                                                 169\n",
      "Bakery, Desserts                                                             159\n",
      "                                                                            ... \n",
      "Burger, Desserts, Cafe, Fast Food, Beverages                                   1\n",
      "Asian, Vietnamese, Malaysian, Japanese, Burmese                                1\n",
      "Modern Indian, Asian, Continental                                              1\n",
      "Mexican, Chinese, Tex-Mex, Desserts                                            1\n",
      "Seafood, Maharashtrian, Goan, North Indian, Mangalorean, Chinese, Malwani      1\n",
      "Name: Cuisines, Length: 2267, dtype: int64\n"
     ]
    }
   ],
   "source": [
    "df['Cuisines'].replace({\"Chinese, North Indian\": \"North Indian, Chinese\"}, inplace=True)\n",
    "df['Cuisines'].replace({\"North Indian, Chinese, Mughlai\": \"North Indian, Mughlai, Chinese\"}, inplace=True)\n",
    "c = pd.concat([df, df['Cuisines'].str.split(\",\",expand=True)], axis = 1)\n",
    "count = c['Cuisines'].value_counts()\n",
    "print(count)   \n"
   ]
  },
  {
   "cell_type": "code",
   "execution_count": 18,
   "metadata": {},
   "outputs": [
    {
     "data": {
      "image/png": "[encoded data removed]",
      "text/plain": [
       "<Figure size 1728x720 with 1 Axes>"
      ]
     },
     "metadata": {
      "needs_background": "light"
     },
     "output_type": "display_data"
    }
   ],
   "source": [
    "\n",
    "title=\"Top cuisines \"\n",
    "loc_count = c['Cuisines'].value_counts()[:10,]\n",
    "plt.figure(figsize=(24,10))\n",
    "sns.barplot(loc_count.index, loc_count.values, alpha=0.8, color = 'red')\n",
    "plt.title(title, fontsize=25)\n",
    "plt.ylabel('Number of Restaurants', fontsize=30)\n",
    "plt.xlabel('Cuisine type', fontsize=30)\n",
    "plt.xticks(\n",
    "        rotation=45, \n",
    "        horizontalalignment='right',\n",
    "        fontweight='light',\n",
    "        fontsize='x-large'  \n",
    "    )\n",
    "plt.show()"
   ]
  },
  {
   "cell_type": "markdown",
   "metadata": {},
   "source": [
    "\n",
    "We get to know that <b>North Indian and Chinese</b> cuisines offering restaurants are more in number."
   ]
  },
  {
   "cell_type": "markdown",
   "metadata": {},
   "source": [
    "Now we check for location"
   ]
  },
  {
   "cell_type": "code",
   "execution_count": 19,
   "metadata": {},
   "outputs": [
    {
     "name": "stdout",
     "output_type": "stream",
     "text": [
      "Thane West       386\n",
      "Andheri West     295\n",
      "Bandra West      241\n",
      "Malad West       209\n",
      "Mira Road        204\n",
      "                ... \n",
      "Turbhe             1\n",
      "Dombivali          1\n",
      "Panch Pakhadi      1\n",
      "Dadar              1\n",
      "Panvel             1\n",
      "Name: Restaurant_Location, Length: 120, dtype: int64\n"
     ]
    }
   ],
   "source": [
    "count = df['Restaurant_Location'].value_counts()\n",
    "print(count)"
   ]
  },
  {
   "cell_type": "code",
   "execution_count": 20,
   "metadata": {},
   "outputs": [
    {
     "data": {
      "image/png": "[encoded data removed]",
      "text/plain": [
       "<Figure size 1728x720 with 1 Axes>"
      ]
     },
     "metadata": {
      "needs_background": "light"
     },
     "output_type": "display_data"
    }
   ],
   "source": [
    "title=\"No of Restaurants per location \"\n",
    "loc_count = df['Restaurant_Location'].value_counts()[:19,]\n",
    "plt.figure(figsize=(24,10))\n",
    "sns.barplot(loc_count.index, loc_count.values, alpha=0.8, color = 'red')\n",
    "plt.title(title, fontsize=25)\n",
    "plt.ylabel('Number of Restaurants', fontsize=30)\n",
    "plt.xlabel('Location', fontsize=30)\n",
    "plt.xticks(\n",
    "        rotation=45, \n",
    "        horizontalalignment='right',\n",
    "        fontweight='light',\n",
    "        fontsize='x-large'  \n",
    "    )\n",
    "plt.show()"
   ]
  },
  {
   "cell_type": "code",
   "execution_count": 21,
   "metadata": {},
   "outputs": [
    {
     "name": "stdout",
     "output_type": "stream",
     "text": [
      "0       4.9\n",
      "1       4.6\n",
      "2       4.5\n",
      "3       4.9\n",
      "4       4.1\n",
      "       ... \n",
      "6521    3.5\n",
      "6522    3.5\n",
      "6523    3.5\n",
      "6524    2.6\n",
      "6525    3.4\n",
      "Name: Rating, Length: 6526, dtype: float64\n"
     ]
    }
   ],
   "source": [
    "print(df.Rating)"
   ]
  },
  {
   "cell_type": "markdown",
   "metadata": {},
   "source": [
    "Now we will determine Factors affecting rating\n"
   ]
  },
  {
   "cell_type": "code",
   "execution_count": 22,
   "metadata": {},
   "outputs": [
    {
     "data": {
      "text/plain": [
       "(0, 2333)"
      ]
     },
     "execution_count": 22,
     "metadata": {},
     "output_type": "execute_result"
    },
    {
     "data": {
      "image/png": "[encoded data removed]",
      "text/plain": [
       "<Figure size 432x288 with 1 Axes>"
      ]
     },
     "metadata": {
      "needs_background": "light"
     },
     "output_type": "display_data"
    }
   ],
   "source": [
    "sns.regplot(x=\"Rating\",y=\"Votes\",data=df)\n",
    "plt.ylim(0,2333)"
   ]
  },
  {
   "cell_type": "code",
   "execution_count": 23,
   "metadata": {},
   "outputs": [
    {
     "name": "stdout",
     "output_type": "stream",
     "text": [
      "count     6526.000000\n",
      "mean       650.581060\n",
      "std        714.448288\n",
      "min         50.000000\n",
      "25%        350.000000\n",
      "50%        500.000000\n",
      "75%        700.000000\n",
      "max      30000.000000\n",
      "Name: Cost_for_two(Rs.), dtype: float64\n"
     ]
    }
   ],
   "source": [
    "print(df['Cost_for_two(Rs.)'].describe())"
   ]
  },
  {
   "cell_type": "markdown",
   "metadata": {},
   "source": [
    " Postitive slope so Votes do impact the rating"
   ]
  },
  {
   "cell_type": "code",
   "execution_count": 24,
   "metadata": {},
   "outputs": [
    {
     "data": {
      "text/plain": [
       "(0, 3000)"
      ]
     },
     "execution_count": 24,
     "metadata": {},
     "output_type": "execute_result"
    },
    {
     "data": {
      "image/png": "[encoded data removed]",
      "text/plain": [
       "<Figure size 432x288 with 1 Axes>"
      ]
     },
     "metadata": {
      "needs_background": "light"
     },
     "output_type": "display_data"
    }
   ],
   "source": [
    "sns.regplot(x=\"Rating\",y=\"Cost_for_two(Rs.)\",data=df)\n",
    "plt.ylim(0,3000)"
   ]
  },
  {
   "cell_type": "markdown",
   "metadata": {},
   "source": [
    " Postitive slope and steep increase so as cost increases rating also increase so cost is a good indicator of rating"
   ]
  },
  {
   "cell_type": "markdown",
   "metadata": {},
   "source": [
    "Delivery time has NaN values so to replace those we will take average of the city\n"
   ]
  },
  {
   "cell_type": "code",
   "execution_count": 25,
   "metadata": {},
   "outputs": [
    {
     "data": {
      "text/plain": [
       "(0, 100)"
      ]
     },
     "execution_count": 25,
     "metadata": {},
     "output_type": "execute_result"
    },
    {
     "data": {
      "image/png": "[encoded data removed]",
      "text/plain": [
       "<Figure size 432x288 with 1 Axes>"
      ]
     },
     "metadata": {
      "needs_background": "light"
     },
     "output_type": "display_data"
    }
   ],
   "source": [
    "sns.regplot(x=\"Rating\",y=\"Delivery_Time(mins)\",data=df)\n",
    "plt.ylim(0,100)"
   ]
  },
  {
   "cell_type": "code",
   "execution_count": 26,
   "metadata": {},
   "outputs": [
    {
     "ename": "SyntaxError",
     "evalue": "invalid syntax (<ipython-input-26-06032a9b5c84>, line 1)",
     "output_type": "error",
     "traceback": [
      "\u001b[1;36m  File \u001b[1;32m\"<ipython-input-26-06032a9b5c84>\"\u001b[1;36m, line \u001b[1;32m1\u001b[0m\n\u001b[1;33m    We cannot consider Delivery time as a good factor to predict rating.\u001b[0m\n\u001b[1;37m            ^\u001b[0m\n\u001b[1;31mSyntaxError\u001b[0m\u001b[1;31m:\u001b[0m invalid syntax\n"
     ]
    }
   ],
   "source": [
    "We cannot consider Delivery time as a good factor to predict rating.\n"
   ]
  },
  {
   "cell_type": "code",
   "execution_count": null,
   "metadata": {},
   "outputs": [],
   "source": [
    "sns.regplot(x=\"Rating\",y=\"Competitors_in_Location\",data=df)\n",
    "plt.ylim(0,)"
   ]
  },
  {
   "cell_type": "code",
   "execution_count": null,
   "metadata": {},
   "outputs": [],
   "source": [
    "sns.regplot(x=\"Rating\",y=\"Cuisine_count\",data=df)\n",
    "plt.ylim(0,)"
   ]
  },
  {
   "cell_type": "code",
   "execution_count": null,
   "metadata": {},
   "outputs": [],
   "source": [
    "sns.regplot(x=\"Rating\",y=\"Competitors_in_Location\",data=df)\n",
    "plt.ylim(0,)"
   ]
  },
  {
   "cell_type": "code",
   "execution_count": null,
   "metadata": {},
   "outputs": [],
   "source": [
    "from scipy import stats\n",
    "pearson_coef, p_value = stats.pearsonr(df['Cost_for_two(Rs.)'], df['Rating'])\n",
    "print(\"The Pearson Correlation Coefficient is\", pearson_coef, \" with a P-value of P =\", p_value ) "
   ]
  },
  {
   "cell_type": "code",
   "execution_count": null,
   "metadata": {},
   "outputs": [],
   "source": [
    "pearson_coef, p_value = stats.pearsonr(df['Votes'], df['Rating'])\n",
    "print(\"The Pearson Correlation Coefficient is\", pearson_coef, \" with a P-value of P =\", p_value ) "
   ]
  },
  {
   "cell_type": "code",
   "execution_count": null,
   "metadata": {},
   "outputs": [],
   "source": [
    "pearson_coef, p_value = stats.pearsonr(df['Cuisine_count'], df['Rating'])\n",
    "print(\"The Pearson Correlation Coefficient is\", pearson_coef, \" with a P-value of P =\", p_value ) "
   ]
  },
  {
   "cell_type": "code",
   "execution_count": null,
   "metadata": {},
   "outputs": [],
   "source": [
    "pearson_coef, p_value = stats.pearsonr(df['Feature_Count'], df['Rating'])\n",
    "print(\"The Pearson Correlation Coefficient is\", pearson_coef, \" with a P-value of P =\", p_value ) \n"
   ]
  },
  {
   "cell_type": "code",
   "execution_count": null,
   "metadata": {},
   "outputs": [],
   "source": [
    "\n",
    "pearson_coef, p_value = stats.pearsonr(df['Score'], df['Rating'])\n",
    "print(\"The Pearson Correlation Coefficient is\", pearson_coef, \" with a P-value of P =\", p_value ) "
   ]
  },
  {
   "cell_type": "code",
   "execution_count": null,
   "metadata": {},
   "outputs": [],
   "source": [
    "pearson_coef, p_value = stats.pearsonr(df['Competitors_in_Location'], df['Rating'])\n",
    "print(\"The Pearson Correlation Coefficient is\", pearson_coef, \" with a P-value of P =\", p_value ) "
   ]
  },
  {
   "cell_type": "code",
   "execution_count": null,
   "metadata": {},
   "outputs": [],
   "source": [
    "pearson_coef, p_value = stats.pearsonr(df['Additional_outlet_count'], df['Rating'])\n",
    "print(\"The Pearson Correlation Coefficient is\", pearson_coef, \" with a P-value of P =\", p_value ) "
   ]
  },
  {
   "cell_type": "markdown",
   "metadata": {},
   "source": [
    "<b>Linear Regression</b>"
   ]
  },
  {
   "cell_type": "code",
   "execution_count": null,
   "metadata": {},
   "outputs": [],
   "source": [
    "from sklearn.linear_model import LinearRegression\n",
    "lm = LinearRegression()\n",
    "lm\n"
   ]
  },
  {
   "cell_type": "code",
   "execution_count": null,
   "metadata": {},
   "outputs": [],
   "source": [
    "X = df[['Cost_for_two(Rs.)']]\n",
    "Y = df['Rating']\n",
    "lm.fit(X,Y)\n",
    "Yhat=lm.predict(X)\n",
    "Yhat[0:5]\n",
    "lm.intercept_\n"
   ]
  },
  {
   "cell_type": "code",
   "execution_count": null,
   "metadata": {},
   "outputs": [],
   "source": [
    "lm.coef_\n"
   ]
  },
  {
   "cell_type": "code",
   "execution_count": null,
   "metadata": {},
   "outputs": [],
   "source": [
    "print(3.5408202499779455+ 0.00015293*4000)"
   ]
  },
  {
   "cell_type": "markdown",
   "metadata": {},
   "source": [
    "<b>Multiple linear regresstion</b>"
   ]
  },
  {
   "cell_type": "code",
   "execution_count": null,
   "metadata": {},
   "outputs": [],
   "source": [
    "Z = df[['Cost_for_two(Rs.)', 'Competitors_in_Location']]"
   ]
  },
  {
   "cell_type": "code",
   "execution_count": null,
   "metadata": {},
   "outputs": [],
   "source": [
    "lm.fit(Z, df['Rating'])"
   ]
  },
  {
   "cell_type": "code",
   "execution_count": null,
   "metadata": {},
   "outputs": [],
   "source": [
    "lm.intercept_"
   ]
  },
  {
   "cell_type": "code",
   "execution_count": null,
   "metadata": {},
   "outputs": [],
   "source": [
    "lm.coef_"
   ]
  },
  {
   "cell_type": "code",
   "execution_count": null,
   "metadata": {},
   "outputs": [],
   "source": [
    "r2=3.4899446790419613+(0.00015468*2000)+(0.00041514*200)\n",
    "print(r2)"
   ]
  },
  {
   "cell_type": "code",
   "execution_count": null,
   "metadata": {},
   "outputs": [],
   "source": [
    "lf=df[df['Rating']>4.5]\n",
    "lf.describe()"
   ]
  },
  {
   "cell_type": "code",
   "execution_count": null,
   "metadata": {},
   "outputs": [],
   "source": [
    "lf.info()"
   ]
  },
  {
   "cell_type": "code",
   "execution_count": null,
   "metadata": {},
   "outputs": [],
   "source": [
    "cs=lf['Cuisines']\n",
    "counta = cs['Cuisines'].value_counts()\n",
    "print(counta)"
   ]
  },
  {
   "cell_type": "code",
   "execution_count": 31,
   "metadata": {},
   "outputs": [
    {
     "data": {
      "image/png": "[encoded data removed]",
      "text/plain": [
       "<Figure size 432x288 with 2 Axes>"
      ]
     },
     "metadata": {
      "needs_background": "light"
     },
     "output_type": "display_data"
    }
   ],
   "source": [
    "sns.heatmap(df[['Cost_for_two(Rs.)','Competitors_in_Location','Rating','Cuisine_count','Feature_Count','Delivery_Time(mins)','Votes','Score']].corr(),annot=True)\n",
    "plt.show()"
   ]
  },
  {
   "cell_type": "code",
   "execution_count": null,
   "metadata": {},
   "outputs": [],
   "source": []
  },
  {
   "cell_type": "code",
   "execution_count": null,
   "metadata": {},
   "outputs": [],
   "source": []
  },
  {
   "cell_type": "code",
   "execution_count": null,
   "metadata": {},
   "outputs": [],
   "source": []
  },
  {
   "cell_type": "code",
   "execution_count": null,
   "metadata": {},
   "outputs": [],
   "source": []
  },
  {
   "cell_type": "code",
   "execution_count": null,
   "metadata": {},
   "outputs": [],
   "source": []
  },
  {
   "cell_type": "code",
   "execution_count": null,
   "metadata": {},
   "outputs": [],
   "source": []
  },
  {
   "cell_type": "code",
   "execution_count": null,
   "metadata": {},
   "outputs": [],
   "source": []
  },
  {
   "cell_type": "code",
   "execution_count": null,
   "metadata": {},
   "outputs": [],
   "source": []
  },
  {
   "cell_type": "code",
   "execution_count": null,
   "metadata": {},
   "outputs": [],
   "source": []
  },
  {
   "cell_type": "code",
   "execution_count": null,
   "metadata": {},
   "outputs": [],
   "source": []
  },
  {
   "cell_type": "code",
   "execution_count": null,
   "metadata": {},
   "outputs": [],
   "source": []
  }
 ],
 "metadata": {
  "kernelspec": {
   "display_name": "Python 3",
   "language": "python",
   "name": "python3"
  },
  "language_info": {
   "codemirror_mode": {
    "name": "ipython",
    "version": 3
   },
   "file_extension": ".py",
   "mimetype": "text/x-python",
   "name": "python",
   "nbconvert_exporter": "python",
   "pygments_lexer": "ipython3",
   "version": "3.8.5"
  }
 },
 "nbformat": 4,
 "nbformat_minor": 4
}
